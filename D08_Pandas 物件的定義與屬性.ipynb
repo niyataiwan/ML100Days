{
 "cells": [
  {
   "cell_type": "code",
   "execution_count": null,
   "id": "80c0b18d",
   "metadata": {},
   "outputs": [],
   "source": [
    "import numpy as np\n",
    "import pandas as pd"
   ]
  },
  {
   "cell_type": "markdown",
   "id": "c020b1f0",
   "metadata": {},
   "source": [
    "Difference between Series and DataFrame"
   ]
  },
  {
   "cell_type": "code",
   "execution_count": 7,
   "id": "f7673588",
   "metadata": {},
   "outputs": [
    {
     "name": "stdout",
     "output_type": "stream",
     "text": [
      "0    1\n",
      "1    2\n",
      "2    3\n",
      "dtype: int64\n",
      "<class 'pandas.core.series.Series'>\n",
      "   0\n",
      "0  1\n",
      "1  2\n",
      "2  3\n",
      "<class 'pandas.core.frame.DataFrame'>\n"
     ]
    }
   ],
   "source": [
    "s = pd.Series([1,2,3])\n",
    "print(s)\n",
    "print(type(s))\n",
    "\n",
    "f = pd.DataFrame([1,2,3])\n",
    "print(f)\n",
    "print(type(f))"
   ]
  },
  {
   "cell_type": "markdown",
   "id": "e39b6166",
   "metadata": {},
   "source": [
    "Series常用屬性"
   ]
  },
  {
   "cell_type": "code",
   "execution_count": 17,
   "id": "03a9a980",
   "metadata": {},
   "outputs": [
    {
     "name": "stdout",
     "output_type": "stream",
     "text": [
      "(3, 1)\n",
      "3\n",
      "0    int64\n",
      "dtype: object\n"
     ]
    }
   ],
   "source": [
    "s = pd.DataFrame([1,2,3])\n",
    "print(s.shape)\n",
    "print(s.size)\n",
    "print(s.dtypes)"
   ]
  },
  {
   "cell_type": "markdown",
   "id": "4fa4e6cd",
   "metadata": {},
   "source": [
    "## [Homework]\n",
    "\n",
    "1. [簡答題] 請問 Pandas 套件最主要的貢獻是什麼？\n",
    "2. 根據提供的資料集，印出他們的屬性分別為何？\n",
    "  （屬性：shape、size、values、index、columns、dtypes、len）"
   ]
  },
  {
   "cell_type": "markdown",
   "id": "310fa437",
   "metadata": {},
   "source": [
    "## homework\n",
    "\n",
    "1. [簡答題] 請問 Pandas 套件最主要的貢獻是什麼？\n",
    "\n",
    "   將適用於數學的陣列型態，用DataFrame or Series 封裝成適合用於資料分析的型態"
   ]
  },
  {
   "cell_type": "markdown",
   "id": "881f7216",
   "metadata": {},
   "source": [
    "2. 根據提供的資料集，印出他們的屬性分別為何？\n",
    "  （屬性：shape、size、values、index、columns、dtypes、len）"
   ]
  },
  {
   "cell_type": "code",
   "execution_count": 15,
   "id": "7fc83922",
   "metadata": {},
   "outputs": [
    {
     "name": "stdout",
     "output_type": "stream",
     "text": [
      "                    John       Doe                 120 jefferson st.  \\\n",
      "0                   Jack  McGinnis                      220 hobo Av.   \n",
      "1          John \"Da Man\"    Repici                 120 Jefferson St.   \n",
      "2                Stephen     Tyler  7452 Terrace \"At the Plaza\" road   \n",
      "3                    NaN  Blankman                               NaN   \n",
      "4  Joan \"the bone\", Anne       Jet               9th, at Terrace plc   \n",
      "\n",
      "     Riverside   NJ   08075  \n",
      "0        Phila   PA    9119  \n",
      "1    Riverside   NJ    8075  \n",
      "2     SomeTown   SD   91234  \n",
      "3     SomeTown   SD     298  \n",
      "4  Desert City   CO     123  \n"
     ]
    }
   ],
   "source": [
    "df = pd.read_csv('https://people.sc.fsu.edu/~jburkardt/data/csv/addresses.csv')\n",
    "print(df)"
   ]
  },
  {
   "cell_type": "code",
   "execution_count": 27,
   "id": "84f0f2b9",
   "metadata": {},
   "outputs": [
    {
     "name": "stdout",
     "output_type": "stream",
     "text": [
      "(5, 6)\n",
      "30\n",
      "[['Jack' 'McGinnis' '220 hobo Av.' 'Phila' ' PA' 9119]\n",
      " ['John \"Da Man\"' 'Repici' '120 Jefferson St.' 'Riverside' ' NJ' 8075]\n",
      " ['Stephen' 'Tyler' '7452 Terrace \"At the Plaza\" road' 'SomeTown' 'SD'\n",
      "  91234]\n",
      " [nan 'Blankman' nan 'SomeTown' ' SD' 298]\n",
      " ['Joan \"the bone\", Anne' 'Jet' '9th, at Terrace plc' 'Desert City' 'CO'\n",
      "  123]]\n",
      "RangeIndex(start=0, stop=5, step=1)\n",
      "Index(['John', 'Doe', '120 jefferson st.', 'Riverside', ' NJ', ' 08075'], dtype='object')\n",
      "John                 object\n",
      "Doe                  object\n",
      "120 jefferson st.    object\n",
      "Riverside            object\n",
      " NJ                  object\n",
      " 08075                int64\n",
      "dtype: object\n",
      "5\n"
     ]
    }
   ],
   "source": [
    "print(df.shape)\n",
    "print(df.size)\n",
    "print(df.values)\n",
    "print(df.index)\n",
    "print(df.columns)\n",
    "print(df.dtypes)\n",
    "print(len(df))"
   ]
  }
 ],
 "metadata": {
  "kernelspec": {
   "display_name": "Python 3 (ipykernel)",
   "language": "python",
   "name": "python3"
  },
  "language_info": {
   "codemirror_mode": {
    "name": "ipython",
    "version": 3
   },
   "file_extension": ".py",
   "mimetype": "text/x-python",
   "name": "python",
   "nbconvert_exporter": "python",
   "pygments_lexer": "ipython3",
   "version": "3.9.7"
  }
 },
 "nbformat": 4,
 "nbformat_minor": 5
}
