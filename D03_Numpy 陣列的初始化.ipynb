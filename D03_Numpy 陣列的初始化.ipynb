{
 "cells": [
  {
   "cell_type": "markdown",
   "id": "4c99a3bd",
   "metadata": {},
   "source": [
    "# [作業目標]\n",
    "\n",
    "\n",
    "1. [簡答題] 請比較 np.zeros 和 np.empty 產生出來的陣列有何差異？為什麼要設計兩種方法？\n",
    "2. 在不用「整數亂數方法」的限制下，如何將包含小數的轉換整數？請將給定的 a 陣列當中的元素變成去掉小數變成整數。\n",
    "3. 承上題，怎樣可以限制整數的範圍介於 m - n 之間？請將給定的 a 陣列當中的元素的範圍調整成 m - n 之間。"
   ]
  },
  {
   "cell_type": "markdown",
   "id": "622c8105",
   "metadata": {},
   "source": [
    "## 作業"
   ]
  },
  {
   "cell_type": "markdown",
   "id": "a9ab0a46",
   "metadata": {},
   "source": [
    "1. [簡答題] 請比較 np.zeros 和 np.empty 產生出來的陣列有何差異？為什麼要設計兩種方法？"
   ]
  },
  {
   "cell_type": "code",
   "execution_count": 14,
   "id": "117e6422",
   "metadata": {},
   "outputs": [
    {
     "name": "stdout",
     "output_type": "stream",
     "text": [
      "[[0. 0. 0.]\n",
      " [0. 0. 0.]]\n",
      "================\n",
      "[[6.23042070e-307 4.67296746e-307 1.69121096e-306]\n",
      " [9.34609111e-307 1.33511018e-306 1.33511969e-306]\n",
      " [6.23037996e-307 6.23053954e-307 9.34609790e-307]\n",
      " [8.45593934e-307 9.34600963e-307 1.86921143e-306]\n",
      " [6.23061763e-307 2.22522053e-306 1.11261095e-306]\n",
      " [1.24610383e-306 1.33511290e-306 8.34445562e-308]]\n"
     ]
    }
   ],
   "source": [
    "# np.zeros會產生真正的0\n",
    "# np.empty會產生近似於0的陣列\n",
    "import numpy as np\n",
    "\n",
    "a = np.zeros((2, 3))\n",
    "print(a)\n",
    "\n",
    "print(\"================\")\n",
    "\n",
    "b = np.empty((6, 3))\n",
    "print(b)"
   ]
  },
  {
   "cell_type": "markdown",
   "id": "e4925ed3",
   "metadata": {},
   "source": [
    "2. 在不用「整數亂數方法」的限制下，如何將包含小數的轉換整數？請將給定的 a 陣列當中的元素變成去掉小數變成整數。"
   ]
  },
  {
   "cell_type": "code",
   "execution_count": 24,
   "id": "3cd7893d",
   "metadata": {},
   "outputs": [
    {
     "name": "stdout",
     "output_type": "stream",
     "text": [
      "[[2.81370955 3.67190596 1.04778317]\n",
      " [2.78369574 8.70507343 6.51990106]]\n",
      "[[3. 4. 1.]\n",
      " [3. 9. 7.]]\n",
      "[[3. 4. 1.]\n",
      " [3. 9. 7.]]\n"
     ]
    }
   ],
   "source": [
    "#用round做四捨五入\n",
    "\n",
    "b = np.random.rand(2, 3) * 10 \n",
    "print(b)\n",
    "print(b.round())   #第一種寫法\n",
    "print(np.round(b)) #第二種寫法"
   ]
  },
  {
   "cell_type": "markdown",
   "id": "fb44075c",
   "metadata": {},
   "source": [
    "3. 承上題，怎樣可以限制整數的範圍介於 m - n 之間？請將給定的 a 陣列當中的元素的範圍調整成 m - n 之間。"
   ]
  },
  {
   "cell_type": "code",
   "execution_count": 9,
   "id": "b2e4670f",
   "metadata": {},
   "outputs": [
    {
     "name": "stdout",
     "output_type": "stream",
     "text": [
      "[[ 62.18453174   3.92873058  14.53631858]\n",
      " [133.69545113  99.99303502 118.48788191]]\n",
      "==========\n",
      "[[ 62.   4.  15.]\n",
      " [134. 100. 118.]]\n"
     ]
    }
   ],
   "source": [
    "#限制整數的範圍介於 m - n 之間\n",
    "m = 20\n",
    "n = 40\n",
    "\n",
    "b = np.random.rand(2, 3) * 10 * (n - m) \n",
    "print(b)\n",
    "print(\"==========\")\n",
    "print(b.round())"
   ]
  },
  {
   "cell_type": "code",
   "execution_count": 5,
   "id": "3882b015",
   "metadata": {},
   "outputs": [
    {
     "name": "stdout",
     "output_type": "stream",
     "text": [
      "[23 32 33 20 20 22]\n"
     ]
    }
   ],
   "source": [
    "import numpy as np\n",
    "m = 20\n",
    "n = 40\n",
    "c = np.random.randint(20,40,6)\n",
    "print(c)"
   ]
  }
 ],
 "metadata": {
  "kernelspec": {
   "display_name": "Python 3 (ipykernel)",
   "language": "python",
   "name": "python3"
  },
  "language_info": {
   "codemirror_mode": {
    "name": "ipython",
    "version": 3
   },
   "file_extension": ".py",
   "mimetype": "text/x-python",
   "name": "python",
   "nbconvert_exporter": "python",
   "pygments_lexer": "ipython3",
   "version": "3.9.7"
  }
 },
 "nbformat": 4,
 "nbformat_minor": 5
}
