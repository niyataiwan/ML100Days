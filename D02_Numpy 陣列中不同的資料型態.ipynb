{
 "cells": [
  {
   "cell_type": "markdown",
   "id": "698aaf15",
   "metadata": {},
   "source": [
    "# D02_Numpy 陣列中不同的資料型態\n",
    "\n",
    "## Study Summary"
   ]
  },
  {
   "cell_type": "markdown",
   "id": "ce11f8ff",
   "metadata": {},
   "source": [
    "NumPy 提供了一個同類型元素的多維容器型態，稱為是數組或陣列。\n",
    "陣列的全名是 N-dimensional Array，習慣簡寫為 NdArray 或 Array"
   ]
  },
  {
   "cell_type": "code",
   "execution_count": 6,
   "id": "91e28ded",
   "metadata": {},
   "outputs": [
    {
     "name": "stdout",
     "output_type": "stream",
     "text": [
      "[[0 1 2 3 4]\n",
      " [5 6 7 8 9]]\n"
     ]
    },
    {
     "data": {
      "text/plain": [
       "array([[0, 1, 2, 3, 4],\n",
       "       [5, 6, 7, 8, 9]])"
      ]
     },
     "execution_count": 6,
     "metadata": {},
     "output_type": "execute_result"
    }
   ],
   "source": [
    "#印出陣列\n",
    "import numpy as np\n",
    "a = np.arange(10).reshape(2,5)\n",
    "print(a)\n",
    "a #用Jupyter印出陣列"
   ]
  },
  {
   "cell_type": "markdown",
   "id": "dbf07d56",
   "metadata": {},
   "source": [
    "陣列常用屬性"
   ]
  },
  {
   "cell_type": "code",
   "execution_count": 3,
   "id": "205088d7",
   "metadata": {},
   "outputs": [
    {
     "name": "stdout",
     "output_type": "stream",
     "text": [
      "int32\n",
      "4\n"
     ]
    }
   ],
   "source": [
    "print(a.dtype)  #陣列中的資料型態\n",
    "print(a.itemsize) #陣列中每個元素占用的空間"
   ]
  },
  {
   "cell_type": "markdown",
   "id": "0c95584a",
   "metadata": {},
   "source": [
    "numpy中的型態判斷\n",
    "is 和 == 差別"
   ]
  },
  {
   "cell_type": "code",
   "execution_count": 19,
   "id": "76fe68de",
   "metadata": {},
   "outputs": [
    {
     "name": "stdout",
     "output_type": "stream",
     "text": [
      "True\n",
      "True\n",
      "True\n",
      "True\n"
     ]
    }
   ],
   "source": [
    "#is相對==比較嚴格\n",
    "print(a.dtype == 'int32')\n",
    "print(a.dtype == np.int32)\n",
    "print(a.dtype is np.dtype('int32')) #僅np.type可用 is\n",
    "print(a.dtype == np.dtype('int32'))"
   ]
  },
  {
   "cell_type": "markdown",
   "id": "7a7c3a40",
   "metadata": {},
   "source": [
    "Difference between type() and dtype"
   ]
  },
  {
   "cell_type": "code",
   "execution_count": 88,
   "id": "275824b0",
   "metadata": {},
   "outputs": [
    {
     "name": "stdout",
     "output_type": "stream",
     "text": [
      "<class 'numpy.ndarray'>\n",
      "<class 'numpy.ndarray'>\n",
      "<class 'numpy.ndarray'>\n",
      "<class 'numpy.ndarray'>\n",
      "=============\n",
      "int32\n",
      "int32\n",
      "int32\n",
      "float64\n"
     ]
    }
   ],
   "source": [
    "import numpy as np\n",
    "a = np.arange(10).reshape(2,5)\n",
    "b = np.array([10, 20, 30, 40])\n",
    "c = np.arange(3)\n",
    "d = np.random.rand(2,3)\n",
    "\n",
    "print (type(a))\n",
    "print (type(b))\n",
    "print (type(c))\n",
    "print (type(d))\n",
    "print (\"=============\")\n",
    "print (a.dtype)\n",
    "print (b.dtype)\n",
    "print (c.dtype)\n",
    "print (d.dtype)"
   ]
  }
 ],
 "metadata": {
  "kernelspec": {
   "display_name": "Python 3 (ipykernel)",
   "language": "python",
   "name": "python3"
  },
  "language_info": {
   "codemirror_mode": {
    "name": "ipython",
    "version": 3
   },
   "file_extension": ".py",
   "mimetype": "text/x-python",
   "name": "python",
   "nbconvert_exporter": "python",
   "pygments_lexer": "ipython3",
   "version": "3.9.7"
  }
 },
 "nbformat": 4,
 "nbformat_minor": 5
}
