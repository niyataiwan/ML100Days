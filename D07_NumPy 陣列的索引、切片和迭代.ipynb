{
 "cells": [
  {
   "cell_type": "markdown",
   "id": "1c12d9e1",
   "metadata": {},
   "source": [
    "\n",
    "# D07_NumPy 陣列的索引、切片和迭代\n",
    "\n",
    "## [Study Summary]\n",
    "\n",
    "1. 從陣列中存取元素\n",
    "2. 一維陣列的切片與索引\n",
    "3. 用「迴圈」的方法，對一維陣列進行迭代\n",
    "4. 用「迴圈」的方法，對二維陣列進行迭代 適用於 對每個元素作運算\n",
    "5. 實用的作法，先攤平(flat)，再迭代多維陣列\n",
    "6. 正確的作法，使用迭代物件(np.nditer)，這樣才可以享有向量運算的特性\n",
    "7. 迭代物件的儲存方向\n",
    "   order = 'C': 橫\n",
    "   order = 'F': 直"
   ]
  },
  {
   "cell_type": "markdown",
   "id": "38862da9",
   "metadata": {},
   "source": [
    "## Summary"
   ]
  },
  {
   "cell_type": "markdown",
   "id": "f803db1e",
   "metadata": {},
   "source": [
    "從陣列中存取元素"
   ]
  },
  {
   "cell_type": "code",
   "execution_count": 21,
   "id": "c5459680",
   "metadata": {},
   "outputs": [
    {
     "name": "stdout",
     "output_type": "stream",
     "text": [
      "[2, 1, 8]\n",
      "8\n",
      "2\n",
      "[1, 8]\n",
      "=================\n",
      "[0 3 6]\n",
      "6\n",
      "0\n",
      "[0 3 6]\n"
     ]
    }
   ],
   "source": [
    "import numpy as np\n",
    "L = [2, 1, 8]\n",
    "\n",
    "print(L)\n",
    "print(L[-1])\n",
    "print(L[0])\n",
    "print(L[1:3]) #取1 - 2個\n",
    "print(\"=================\")\n",
    "a = np.arange(3) * 3\n",
    "\n",
    "print(a)\n",
    "print(a[-1]) #倒數第一個\n",
    "print(a[0]) \n",
    "print(a[0:4]) #取0 - 3個"
   ]
  },
  {
   "cell_type": "markdown",
   "id": "6aa54f0a",
   "metadata": {},
   "source": [
    "一維陣列的切片與索引"
   ]
  },
  {
   "cell_type": "code",
   "execution_count": 23,
   "id": "9a784226",
   "metadata": {},
   "outputs": [
    {
     "name": "stdout",
     "output_type": "stream",
     "text": [
      "1\n",
      "2\n",
      "[1 2]\n",
      "[2 3 6 9 0]\n",
      "[9 0]\n"
     ]
    }
   ],
   "source": [
    "import numpy as np \n",
    "\n",
    "data = np.array([1, 2, 3, 6, 9, 0])\n",
    "\n",
    "print(data[0]) # 取出第 0 個\n",
    "print(data[1]) # 取出第 1 個\n",
    "print(data[0:2]) # 第 0 - 1 個\n",
    "print(data[1:]) # 第 1 到最後一個\n",
    "print(data[-2:]) # 倒數第二到最後一個"
   ]
  },
  {
   "cell_type": "markdown",
   "id": "46591171",
   "metadata": {},
   "source": [
    "用「迴圈」的方法，對一維陣列進行迭代\n",
    "適用於 對每個元素作運算"
   ]
  },
  {
   "cell_type": "code",
   "execution_count": 7,
   "id": "e4757340",
   "metadata": {},
   "outputs": [
    {
     "name": "stdout",
     "output_type": "stream",
     "text": [
      "[2 3 4 5 6 7]\n",
      "2\n",
      "3\n",
      "4\n",
      "5\n",
      "6\n",
      "7\n"
     ]
    }
   ],
   "source": [
    "import numpy as np \n",
    "\n",
    "a = np.arange(6) + 2 #對每個元素+2\n",
    "print(a)\n",
    "\n",
    "for i in a:\n",
    "    print(i)"
   ]
  },
  {
   "cell_type": "markdown",
   "id": "063ddae9",
   "metadata": {},
   "source": [
    "用「迴圈」的方法，對二維陣列進行迭代 適用於 對每個元素作運算"
   ]
  },
  {
   "cell_type": "code",
   "execution_count": 5,
   "id": "5e652291",
   "metadata": {},
   "outputs": [
    {
     "name": "stdout",
     "output_type": "stream",
     "text": [
      "[10 11 12]\n",
      "[13 14 15]\n",
      "[16 17 18]\n",
      "[19 20 21]\n"
     ]
    }
   ],
   "source": [
    "a = np.arange(12).reshape(4,3) +10\n",
    "\n",
    "for row in a:\n",
    "    print(row)"
   ]
  },
  {
   "cell_type": "markdown",
   "id": "9a18ccf7",
   "metadata": {},
   "source": [
    "實用的作法，先攤平(flat)，再迭代多維陣列"
   ]
  },
  {
   "cell_type": "code",
   "execution_count": 9,
   "id": "58d5f6f8",
   "metadata": {},
   "outputs": [
    {
     "name": "stdout",
     "output_type": "stream",
     "text": [
      "10\n",
      "11\n",
      "12\n",
      "13\n",
      "14\n",
      "15\n",
      "16\n",
      "17\n",
      "18\n",
      "19\n",
      "20\n",
      "21\n"
     ]
    }
   ],
   "source": [
    "a = np.arange(12).reshape(4,3) + 10\n",
    "\n",
    "for row in a.flat:\n",
    "    print(row)"
   ]
  },
  {
   "cell_type": "markdown",
   "id": "ecf14ae3",
   "metadata": {},
   "source": [
    "正確的作法，使用迭代物件(np.nditer)，這樣才可以享有向量運算的特性"
   ]
  },
  {
   "cell_type": "code",
   "execution_count": 20,
   "id": "133c64ba",
   "metadata": {},
   "outputs": [
    {
     "name": "stdout",
     "output_type": "stream",
     "text": [
      "0\n",
      "1\n",
      "2\n",
      "3\n"
     ]
    }
   ],
   "source": [
    "a = np.arange(4).reshape(2,2)\n",
    "\n",
    "for row in np.nditer(a):\n",
    "    print (row)"
   ]
  },
  {
   "cell_type": "markdown",
   "id": "766e431e",
   "metadata": {},
   "source": [
    "迭代物件的儲存方向\n",
    "order = 'C': 橫\n",
    "order = 'F': 直"
   ]
  },
  {
   "cell_type": "code",
   "execution_count": 5,
   "id": "be7578c7",
   "metadata": {},
   "outputs": [
    {
     "name": "stdout",
     "output_type": "stream",
     "text": [
      "[[ 0  1  2]\n",
      " [ 3  4  5]\n",
      " [ 6  7  8]\n",
      " [ 9 10 11]]\n",
      "========\n",
      "0\n",
      "1\n",
      "2\n",
      "3\n",
      "4\n",
      "5\n",
      "6\n",
      "7\n",
      "8\n",
      "9\n",
      "10\n",
      "11\n",
      "========\n",
      "0\n",
      "3\n",
      "6\n",
      "9\n",
      "1\n",
      "4\n",
      "7\n",
      "10\n",
      "2\n",
      "5\n",
      "8\n",
      "11\n"
     ]
    }
   ],
   "source": [
    "a = np.arange(12).reshape(4,3)\n",
    "\n",
    "print(a)\n",
    "print(\"========\")  \n",
    "\n",
    "for row in np.nditer(a, order = 'C'):\n",
    "    print(row)  #3行\n",
    "    \n",
    "print(\"========\") \n",
    "\n",
    "for row in np.nditer(a, order = 'F'):\n",
    "    print(row) "
   ]
  },
  {
   "cell_type": "markdown",
   "id": "5b62ab0e",
   "metadata": {},
   "source": [
    "\n",
    "## [Homeowork]\n",
    "\n",
    "1. 請比較對一個 100 x 100 * 100 的陣列，使用不同方法對每一個元素 +1 的時間比較。\n",
    "2. 如何從一個陣列中，找出出現頻率最高的數值與位置？\n",
    "3. 如何利用 list(...) 實現 a.tolist() 的效果？試著用程式實作。"
   ]
  },
  {
   "cell_type": "markdown",
   "id": "e483ce20",
   "metadata": {},
   "source": [
    "## Homework\n",
    "1. 請比較對一個 100 x 100 * 100 的陣列，使用不同方法對每一個元素 +1 的時間比較"
   ]
  },
  {
   "cell_type": "code",
   "execution_count": 32,
   "id": "2020068b",
   "metadata": {},
   "outputs": [],
   "source": [
    "import numpy as np\n",
    "\n",
    "a = np.random.randint(0, 10, 1000000).reshape(100, 100, 100)"
   ]
  },
  {
   "cell_type": "code",
   "execution_count": 7,
   "id": "8e8d1422",
   "metadata": {},
   "outputs": [
    {
     "name": "stdout",
     "output_type": "stream",
     "text": [
      "60 ns ± 16.9 ns per loop (mean ± std. dev. of 7 runs, 10 loops each)\n"
     ]
    }
   ],
   "source": [
    "#用迴圈\n",
    "%timeit -n 10 a =2\n",
    "for row in a:\n",
    "    for row1 in row:\n",
    "        row1 = row1 + 1"
   ]
  },
  {
   "cell_type": "code",
   "execution_count": 10,
   "id": "82478587",
   "metadata": {},
   "outputs": [
    {
     "name": "stdout",
     "output_type": "stream",
     "text": [
      "47.1 ns ± 10.3 ns per loop (mean ± std. dev. of 7 runs, 10 loops each)\n"
     ]
    }
   ],
   "source": [
    "#用攤平\n",
    "%timeit -n 10 a =2\n",
    "for row in a.flat:\n",
    "        row = row + 1"
   ]
  },
  {
   "cell_type": "code",
   "execution_count": 14,
   "id": "37f7d028",
   "metadata": {},
   "outputs": [
    {
     "name": "stdout",
     "output_type": "stream",
     "text": [
      "57.1 ns ± 13.9 ns per loop (mean ± std. dev. of 7 runs, 10 loops each)\n"
     ]
    }
   ],
   "source": [
    "#用迭代\n",
    "%timeit -n 10 a =2\n",
    "for row in np.nditer(a):\n",
    "        row = row + 1  "
   ]
  },
  {
   "cell_type": "markdown",
   "id": "8db7accc",
   "metadata": {},
   "source": [
    "2. 如何從一個陣列中，找出出現頻率最高的數值與位置？"
   ]
  },
  {
   "cell_type": "code",
   "execution_count": 16,
   "id": "f1dd6a2a",
   "metadata": {},
   "outputs": [
    {
     "data": {
      "text/plain": [
       "array([1, 1, 0, 2, 0])"
      ]
     },
     "execution_count": 16,
     "metadata": {},
     "output_type": "execute_result"
    }
   ],
   "source": [
    "b = np.random.randint(0,3,5)\n",
    "b"
   ]
  },
  {
   "cell_type": "markdown",
   "id": "af247575",
   "metadata": {},
   "source": [
    "補充randit用法\n",
    "適用: 隨機產生指定範圍內的整數\n",
    "公式: np.random.randit(low,high,size)\n",
    "low: 最低數值\n",
    "high: 最高數值\n",
    "size: array大小\n",
    "ex:np.random.randit(0,5,4) #(0,1,1,4)"
   ]
  },
  {
   "cell_type": "code",
   "execution_count": 17,
   "id": "c368a526",
   "metadata": {},
   "outputs": [
    {
     "name": "stdout",
     "output_type": "stream",
     "text": [
      "0\n",
      "0\n",
      "2\n",
      "(array([3], dtype=int64),)\n"
     ]
    }
   ],
   "source": [
    "binc = (np.bincount(b).argmax()) #最大值\n",
    "print(binc)\n",
    "binc = np.argmax(np.bincount(b)) #第二種寫法\n",
    "print(binc)\n",
    "binc = (np.bincount(b).argmin()) #最小值\n",
    "print(binc)\n",
    "binc = np.where(b == np.max(b))  #最大值的位置，值是2\n",
    "print(binc)"
   ]
  },
  {
   "cell_type": "markdown",
   "id": "0931aa01",
   "metadata": {},
   "source": [
    "2-1. 如何從二維陣列中，找出出現頻率最高數值的位置？"
   ]
  },
  {
   "cell_type": "code",
   "execution_count": 48,
   "id": "751bd3ae",
   "metadata": {},
   "outputs": [
    {
     "name": "stdout",
     "output_type": "stream",
     "text": [
      "[2 2 2 4 4 2 3 2 3 2]\n",
      "3\n",
      "(array([3, 4], dtype=int64),)\n"
     ]
    }
   ],
   "source": [
    "c = np.random.randint(2,5,10)\n",
    "print(c)\n",
    "binc = np.argmax(c)\n",
    "print(binc)  #最大值3\n",
    "binc = np.where(c == np.max(c))  #最大值的位置，值是2\n",
    "print(binc)\n"
   ]
  },
  {
   "cell_type": "markdown",
   "id": "60ce5d19",
   "metadata": {},
   "source": [
    "3. 如何利用 list(...) 實現 a.tolist() 的效果？試著用程式實作。\n",
    "   list: 一層的轉換\n",
    "   tolist: 巢狀的轉換"
   ]
  },
  {
   "cell_type": "code",
   "execution_count": 54,
   "id": "7d3c8d8a",
   "metadata": {},
   "outputs": [
    {
     "name": "stdout",
     "output_type": "stream",
     "text": [
      "[[[0 4 1 1]\n",
      "  [9 4 7 8]\n",
      "  [1 1 0 9]]\n",
      "\n",
      " [[2 5 5 8]\n",
      "  [2 6 3 2]\n",
      "  [9 7 8 8]]]\n",
      "==========\n",
      "[[[0, 4, 1, 1], [9, 4, 7, 8], [1, 1, 0, 9]], [[2, 5, 5, 8], [2, 6, 3, 2], [9, 7, 8, 8]]]\n",
      "==========\n",
      "[array([[0, 4, 1, 1],\n",
      "       [9, 4, 7, 8],\n",
      "       [1, 1, 0, 9]]), array([[2, 5, 5, 8],\n",
      "       [2, 6, 3, 2],\n",
      "       [9, 7, 8, 8]])]\n"
     ]
    }
   ],
   "source": [
    "a = np.random.randint(10, size=(2,3,4)) #多維陣列\n",
    "print(a)\n",
    "print(\"==========\")\n",
    "print(a.tolist())\n",
    "print(\"==========\")\n",
    "print(list(a))"
   ]
  },
  {
   "cell_type": "code",
   "execution_count": 56,
   "id": "13c865eb",
   "metadata": {},
   "outputs": [
    {
     "name": "stdout",
     "output_type": "stream",
     "text": [
      "[6, 1, 8, 1, 9, 5]\n",
      "[6, 1, 8, 1, 9, 5]\n"
     ]
    }
   ],
   "source": [
    "a = np.random.randint(10, size=6) #一維陣列\n",
    "a\n",
    "print(a.tolist())\n",
    "print(list(a))"
   ]
  }
 ],
 "metadata": {
  "kernelspec": {
   "display_name": "Python 3 (ipykernel)",
   "language": "python",
   "name": "python3"
  },
  "language_info": {
   "codemirror_mode": {
    "name": "ipython",
    "version": 3
   },
   "file_extension": ".py",
   "mimetype": "text/x-python",
   "name": "python",
   "nbconvert_exporter": "python",
   "pygments_lexer": "ipython3",
   "version": "3.9.7"
  }
 },
 "nbformat": 4,
 "nbformat_minor": 5
}
