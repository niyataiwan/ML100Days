{
 "cells": [
  {
   "cell_type": "markdown",
   "id": "cfe9d5a4",
   "metadata": {},
   "source": [
    "# D06_Numpy 中常見的陣列方法與函式\n",
    "\n",
    "\n",
    "## [作業內容]\n",
    "\n",
    "1. 從陣列中查找最小元素，最大元素，百分位標準差和方差\n",
    "2. [簡答題] 請問下列這三種方法有什麼不同？\n",
    "   print(a.sum())\n",
    "   print(np.sum(a))\n",
    "   print(sum(a)) \n",
    "3. reshape and resize差別\n",
    "4. 將多維形狀的陣列轉換成一維(攤平)\n",
    "5. 請對一個 5x5 的隨機矩陣作正規化的操作\n",
    "6. 請建立一個長度等於 10 的正整數向量，並且將其中的最大值改成 -1\n",
    "7. 用sort排序"
   ]
  },
  {
   "cell_type": "markdown",
   "id": "72537705",
   "metadata": {},
   "source": [
    "1. 從陣列中查找最小元素，最大元素，百分位標準差和方差"
   ]
  },
  {
   "cell_type": "code",
   "execution_count": 14,
   "id": "f6a48f57",
   "metadata": {},
   "outputs": [
    {
     "name": "stdout",
     "output_type": "stream",
     "text": [
      "[0 1 2 3 4 5]\n",
      "15\n",
      "0\n",
      "5\n",
      "[[ 0  1  2  3  4  5]\n",
      " [ 6  7  8  9 10 11]]\n",
      "66\n",
      "[ 6  8 10 12 14 16]\n",
      "[15 51]\n",
      "[0 1 2 3 4 5]\n"
     ]
    }
   ],
   "source": [
    "import numpy as np\n",
    "a = np.arange(6)\n",
    "print(a)\n",
    "\n",
    "print(a.sum())\n",
    "print(a.min())\n",
    "print(a.max())\n",
    "\n",
    "b = np.arange(12).reshape(2,6)\n",
    "print(b)\n",
    "print(b.sum())\n",
    "print(b.sum(axis=0)) #上下加起來\n",
    "print(b.sum(axis=1)) #橫向加起來"
   ]
  },
  {
   "cell_type": "markdown",
   "id": "a00f19de",
   "metadata": {},
   "source": [
    "2. [簡答題] 請問下列這三種方法有什麼不同？\n",
    "   print(a.sum())\n",
    "   print(np.sum(a))\n",
    "   print(sum(a)) "
   ]
  },
  {
   "cell_type": "code",
   "execution_count": 45,
   "id": "134d3d35",
   "metadata": {},
   "outputs": [
    {
     "name": "stdout",
     "output_type": "stream",
     "text": [
      "45\n",
      "45\n",
      "45\n"
     ]
    }
   ],
   "source": [
    "import numpy as np\n",
    "a = np.arange(10)\n",
    "print(a.sum())\n",
    "print(np.sum(a))\n",
    "print(sum(a))"
   ]
  },
  {
   "cell_type": "markdown",
   "id": "f57fd4c7",
   "metadata": {},
   "source": [
    "3. reshape and resize差別"
   ]
  },
  {
   "cell_type": "code",
   "execution_count": 25,
   "id": "cba75af2",
   "metadata": {},
   "outputs": [
    {
     "name": "stdout",
     "output_type": "stream",
     "text": [
      "[[ 0  1  2  3]\n",
      " [ 4  5  6  7]\n",
      " [ 8  9 10 11]]\n",
      "[ 0  1  2  3  4  5  6  7  8  9 10 11]\n",
      "None\n",
      "[[ 0  1  2  3]\n",
      " [ 4  5  6  7]\n",
      " [ 8  9 10 11]]\n"
     ]
    }
   ],
   "source": [
    "import numpy as np\n",
    "a = np.arange(12)   #reshape保留原本的樣子\n",
    "print(a.reshape(3,4))\n",
    "print(a)\n",
    "\n",
    "b = np.arange(12)   #resize樣子被改變\n",
    "print(b.resize(3,4))\n",
    "print(b)\n"
   ]
  },
  {
   "cell_type": "markdown",
   "id": "c17d29c3",
   "metadata": {},
   "source": [
    "4. 將多維形狀的陣列轉換成一維(攤平)"
   ]
  },
  {
   "cell_type": "code",
   "execution_count": 27,
   "id": "3513f59c",
   "metadata": {},
   "outputs": [
    {
     "name": "stdout",
     "output_type": "stream",
     "text": [
      "[0 1 2 3 4 5]\n",
      "[0 1 2 3 4 5]\n",
      "<numpy.flatiter object at 0x0000024726064E80>\n",
      "[0, 1, 2, 3, 4, 5]\n"
     ]
    }
   ],
   "source": [
    "import numpy as np \n",
    "\n",
    "a = np.arange(6).reshape((3, 2))\n",
    "print(a.ravel() )\n",
    "print(a.flatten())\n",
    "print(a.flat)\n",
    "print(list(a.flat))"
   ]
  },
  {
   "cell_type": "markdown",
   "id": "0f288e6e",
   "metadata": {},
   "source": [
    "5. 請對一個 5x5 的隨機矩陣作正規化的操作"
   ]
  },
  {
   "cell_type": "code",
   "execution_count": 40,
   "id": "38d12ad9",
   "metadata": {},
   "outputs": [
    {
     "name": "stdout",
     "output_type": "stream",
     "text": [
      "[[ 0  1  2  3  4]\n",
      " [ 5  6  7  8  9]\n",
      " [10 11 12 13 14]\n",
      " [15 16 17 18 19]\n",
      " [20 21 22 23 24]]\n",
      "[[0.26515128 0.15576206 0.22392561 0.63791785 0.21892515]\n",
      " [0.42714701 0.55177408 0.9507938  0.06851178 0.45738707]\n",
      " [0.72011318 0.81687465 0.55164845 0.1773866  0.74401521]\n",
      " [0.34377166 0.70635333 0.44669473 0.57327704 0.00480679]\n",
      " [0.48008666 0.26762535 0.22153895 0.65077559 0.25256537]]\n"
     ]
    }
   ],
   "source": [
    "import numpy as np\n",
    "a = np.arange(25).reshape(5,5)\n",
    "print(a)\n",
    "b = np.random.random((5,5))\n",
    "print(b)"
   ]
  },
  {
   "cell_type": "markdown",
   "id": "22290fa2",
   "metadata": {},
   "source": [
    "6. 請建立一個長度等於 10 的正整數向量，並且將其中的最大值改成 -1。"
   ]
  },
  {
   "cell_type": "code",
   "execution_count": 46,
   "id": "f2eec3b9",
   "metadata": {},
   "outputs": [
    {
     "name": "stdout",
     "output_type": "stream",
     "text": [
      "[ 0  1  2  3  4  5  6  7  8 -9]\n",
      "[ 0.75490439  0.7011712   0.50266338  0.59559498  0.24777287 -1.\n",
      "  0.37941058  0.76556099  0.76282517  0.30242125]\n"
     ]
    }
   ],
   "source": [
    "import numpy as np\n",
    "a = np.arange(10)\n",
    "a[a.max()] *=-1\n",
    "print(a)\n",
    "\n",
    "b = np.random.random(10)\n",
    "b[b.argmax()] = -1\n",
    "print(b)"
   ]
  },
  {
   "cell_type": "markdown",
   "id": "91d1d8ba",
   "metadata": {},
   "source": [
    "7. 用sort排序"
   ]
  },
  {
   "cell_type": "code",
   "execution_count": 15,
   "id": "d9d909ae",
   "metadata": {},
   "outputs": [
    {
     "name": "stdout",
     "output_type": "stream",
     "text": [
      "[1 2 4 5 8]\n"
     ]
    }
   ],
   "source": [
    "import numpy as np\n",
    "a = np.array ([1,2,5,8,4])\n",
    "print(np.sort(a))"
   ]
  }
 ],
 "metadata": {
  "kernelspec": {
   "display_name": "Python 3 (ipykernel)",
   "language": "python",
   "name": "python3"
  },
  "language_info": {
   "codemirror_mode": {
    "name": "ipython",
    "version": 3
   },
   "file_extension": ".py",
   "mimetype": "text/x-python",
   "name": "python",
   "nbconvert_exporter": "python",
   "pygments_lexer": "ipython3",
   "version": "3.9.7"
  }
 },
 "nbformat": 4,
 "nbformat_minor": 5
}
