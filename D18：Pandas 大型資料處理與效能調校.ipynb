{
 "cells": [
  {
   "cell_type": "markdown",
   "id": "bab1b591",
   "metadata": {},
   "source": [
    "# Study Summary"
   ]
  },
  {
   "cell_type": "markdown",
   "id": "20d3bed1",
   "metadata": {},
   "source": [
    "1. 三個方法，大幅減少程式的執行時間\n",
    "2. 比較使用內建函數，和自訂函數的程式讀取"
   ]
  },
  {
   "cell_type": "markdown",
   "id": "e55b303a",
   "metadata": {},
   "source": [
    "1. 讀取資料型態最快速的 (讀取速度 pkl > hdf > csv > xlsx)\n",
    "   pkl: Python中存放文件的格式，以序列化方式存放\n",
    "   hdf: 儲存組織大量資料的格式\n",
    "   csv: 以逗號區隔開來的格式\n",
    "   xlsx: 存儲excel的格式\n",
    "2. 多使用內建函數，而非自訂函數\n",
    "3. 向量化的資料處理 (把一筆一筆的資料轉為陣列dataframe，也就是numpy數值計算)"
   ]
  },
  {
   "cell_type": "markdown",
   "id": "9952a290",
   "metadata": {},
   "source": [
    "2. 比較使用內建函數，和自訂函數的程式讀取速度"
   ]
  },
  {
   "cell_type": "code",
   "execution_count": 1,
   "id": "6ba3fdd8",
   "metadata": {},
   "outputs": [
    {
     "data": {
      "text/html": [
       "<div>\n",
       "<style scoped>\n",
       "    .dataframe tbody tr th:only-of-type {\n",
       "        vertical-align: middle;\n",
       "    }\n",
       "\n",
       "    .dataframe tbody tr th {\n",
       "        vertical-align: top;\n",
       "    }\n",
       "\n",
       "    .dataframe thead th {\n",
       "        text-align: right;\n",
       "    }\n",
       "</style>\n",
       "<table border=\"1\" class=\"dataframe\">\n",
       "  <thead>\n",
       "    <tr style=\"text-align: right;\">\n",
       "      <th></th>\n",
       "      <th>student_id</th>\n",
       "      <th>math_score</th>\n",
       "      <th>english_score</th>\n",
       "      <th>chinese_socre</th>\n",
       "      <th>gender</th>\n",
       "      <th>class</th>\n",
       "    </tr>\n",
       "  </thead>\n",
       "  <tbody>\n",
       "    <tr>\n",
       "      <th>0</th>\n",
       "      <td>1</td>\n",
       "      <td>50</td>\n",
       "      <td>80</td>\n",
       "      <td>70</td>\n",
       "      <td>boy</td>\n",
       "      <td>1</td>\n",
       "    </tr>\n",
       "    <tr>\n",
       "      <th>1</th>\n",
       "      <td>2</td>\n",
       "      <td>60</td>\n",
       "      <td>45</td>\n",
       "      <td>70</td>\n",
       "      <td>boy</td>\n",
       "      <td>1</td>\n",
       "    </tr>\n",
       "    <tr>\n",
       "      <th>2</th>\n",
       "      <td>3</td>\n",
       "      <td>98</td>\n",
       "      <td>43</td>\n",
       "      <td>70</td>\n",
       "      <td>boy</td>\n",
       "      <td>1</td>\n",
       "    </tr>\n",
       "    <tr>\n",
       "      <th>3</th>\n",
       "      <td>4</td>\n",
       "      <td>70</td>\n",
       "      <td>69</td>\n",
       "      <td>70</td>\n",
       "      <td>boy</td>\n",
       "      <td>1</td>\n",
       "    </tr>\n",
       "    <tr>\n",
       "      <th>4</th>\n",
       "      <td>5</td>\n",
       "      <td>56</td>\n",
       "      <td>79</td>\n",
       "      <td>70</td>\n",
       "      <td>boy</td>\n",
       "      <td>1</td>\n",
       "    </tr>\n",
       "    <tr>\n",
       "      <th>5</th>\n",
       "      <td>6</td>\n",
       "      <td>60</td>\n",
       "      <td>68</td>\n",
       "      <td>70</td>\n",
       "      <td>girl</td>\n",
       "      <td>2</td>\n",
       "    </tr>\n",
       "    <tr>\n",
       "      <th>6</th>\n",
       "      <td>7</td>\n",
       "      <td>45</td>\n",
       "      <td>70</td>\n",
       "      <td>70</td>\n",
       "      <td>girl</td>\n",
       "      <td>2</td>\n",
       "    </tr>\n",
       "    <tr>\n",
       "      <th>7</th>\n",
       "      <td>8</td>\n",
       "      <td>55</td>\n",
       "      <td>77</td>\n",
       "      <td>70</td>\n",
       "      <td>girl</td>\n",
       "      <td>2</td>\n",
       "    </tr>\n",
       "    <tr>\n",
       "      <th>8</th>\n",
       "      <td>9</td>\n",
       "      <td>25</td>\n",
       "      <td>57</td>\n",
       "      <td>70</td>\n",
       "      <td>girl</td>\n",
       "      <td>2</td>\n",
       "    </tr>\n",
       "    <tr>\n",
       "      <th>9</th>\n",
       "      <td>10</td>\n",
       "      <td>88</td>\n",
       "      <td>40</td>\n",
       "      <td>70</td>\n",
       "      <td>girl</td>\n",
       "      <td>2</td>\n",
       "    </tr>\n",
       "    <tr>\n",
       "      <th>10</th>\n",
       "      <td>11</td>\n",
       "      <td>25</td>\n",
       "      <td>60</td>\n",
       "      <td>70</td>\n",
       "      <td>girl</td>\n",
       "      <td>2</td>\n",
       "    </tr>\n",
       "    <tr>\n",
       "      <th>11</th>\n",
       "      <td>12</td>\n",
       "      <td>80</td>\n",
       "      <td>90</td>\n",
       "      <td>70</td>\n",
       "      <td>girl</td>\n",
       "      <td>2</td>\n",
       "    </tr>\n",
       "    <tr>\n",
       "      <th>12</th>\n",
       "      <td>13</td>\n",
       "      <td>20</td>\n",
       "      <td>50</td>\n",
       "      <td>70</td>\n",
       "      <td>boy</td>\n",
       "      <td>1</td>\n",
       "    </tr>\n",
       "    <tr>\n",
       "      <th>13</th>\n",
       "      <td>14</td>\n",
       "      <td>50</td>\n",
       "      <td>67</td>\n",
       "      <td>70</td>\n",
       "      <td>boy</td>\n",
       "      <td>1</td>\n",
       "    </tr>\n",
       "    <tr>\n",
       "      <th>14</th>\n",
       "      <td>15</td>\n",
       "      <td>89</td>\n",
       "      <td>50</td>\n",
       "      <td>70</td>\n",
       "      <td>boy</td>\n",
       "      <td>1</td>\n",
       "    </tr>\n",
       "  </tbody>\n",
       "</table>\n",
       "</div>"
      ],
      "text/plain": [
       "    student_id  math_score  english_score  chinese_socre gender  class\n",
       "0            1          50             80             70    boy      1\n",
       "1            2          60             45             70    boy      1\n",
       "2            3          98             43             70    boy      1\n",
       "3            4          70             69             70    boy      1\n",
       "4            5          56             79             70    boy      1\n",
       "5            6          60             68             70   girl      2\n",
       "6            7          45             70             70   girl      2\n",
       "7            8          55             77             70   girl      2\n",
       "8            9          25             57             70   girl      2\n",
       "9           10          88             40             70   girl      2\n",
       "10          11          25             60             70   girl      2\n",
       "11          12          80             90             70   girl      2\n",
       "12          13          20             50             70    boy      1\n",
       "13          14          50             67             70    boy      1\n",
       "14          15          89             50             70    boy      1"
      ]
     },
     "execution_count": 1,
     "metadata": {},
     "output_type": "execute_result"
    }
   ],
   "source": [
    "import pandas as pd\n",
    "import numpy as np\n",
    "import time\n",
    "\n",
    "score_df = pd.DataFrame([[1, 50, 80, 70, 'boy', 1],\n",
    "                         [2, 60, 45, 70, 'boy', 1],\n",
    "                         [3, 98, 43, 70, 'boy', 1],\n",
    "                         [4, 70, 69, 70, 'boy', 1],\n",
    "                         [5, 56, 79, 70, 'boy', 1],\n",
    "                         [6, 60, 68, 70, 'girl', 2],\n",
    "                         [7, 45, 70, 70, 'girl', 2],\n",
    "                         [8, 55, 77, 70, 'girl', 2],\n",
    "                         [9, 25, 57, 70, 'girl', 2],\n",
    "                         [10, 88, 40, 70, 'girl', 2],\n",
    "                         [11, 25, 60, 70, 'girl', 2],\n",
    "                         [12, 80, 90, 70, 'girl', 2],\n",
    "                         [13, 20, 50, 70, 'boy', 1],\n",
    "                         [14, 50, 67, 70, 'boy', 1],\n",
    "                         [15, 89, 50, 70, 'boy', 1]],\n",
    "                         columns = ['student_id', 'math_score', 'english_score', 'chinese_socre', 'gender', 'class'])\n",
    "score_df"
   ]
  },
  {
   "cell_type": "code",
   "execution_count": 6,
   "id": "0202d007",
   "metadata": {},
   "outputs": [
    {
     "data": {
      "text/plain": [
       "0.0019986629486083984"
      ]
     },
     "execution_count": 6,
     "metadata": {},
     "output_type": "execute_result"
    }
   ],
   "source": [
    "#python內建函式\n",
    "star_time = time.time()\n",
    "score_df.groupby('class').agg('mean')\n",
    "end_time = time.time()\n",
    "end_time - star_time"
   ]
  },
  {
   "cell_type": "code",
   "execution_count": 7,
   "id": "871e360e",
   "metadata": {},
   "outputs": [
    {
     "name": "stderr",
     "output_type": "stream",
     "text": [
      "C:\\Users\\user\\anaconda3\\lib\\site-packages\\pandas\\core\\groupby\\generic.py:303: FutureWarning: Dropping invalid columns in SeriesGroupBy.agg is deprecated. In a future version, a TypeError will be raised. Before calling .agg, select only columns which should be valid for the aggregating function.\n",
      "  results[key] = self.aggregate(func)\n"
     ]
    },
    {
     "data": {
      "text/plain": [
       "0.019887685775756836"
      ]
     },
     "execution_count": 7,
     "metadata": {},
     "output_type": "execute_result"
    }
   ],
   "source": [
    "#python自訂語法\n",
    "star_time = time.time()\n",
    "score_df.groupby('class').agg(lambda x:x.mean())\n",
    "end_time = time.time()\n",
    "end_time - star_time"
   ]
  },
  {
   "cell_type": "code",
   "execution_count": 8,
   "id": "2c8d60d1",
   "metadata": {},
   "outputs": [
    {
     "name": "stderr",
     "output_type": "stream",
     "text": [
      "C:\\Users\\user\\AppData\\Local\\Temp/ipykernel_11068/3573211492.py:3: FutureWarning: Dropping invalid columns in DataFrameGroupBy.transform is deprecated. In a future version, a TypeError will be raised. Before calling .transform, select only columns which should be valid for the transforming function.\n",
      "  score_df.groupby('class').transform('mean')\n"
     ]
    },
    {
     "data": {
      "text/plain": [
       "0.012996196746826172"
      ]
     },
     "execution_count": 8,
     "metadata": {},
     "output_type": "execute_result"
    }
   ],
   "source": [
    "#python的內建函式transform+內建mean\n",
    "star_time = time.time()\n",
    "score_df.groupby('class').transform('mean')\n",
    "end_time = time.time()\n",
    "end_time - star_time"
   ]
  },
  {
   "cell_type": "code",
   "execution_count": 9,
   "id": "9a0a1480",
   "metadata": {},
   "outputs": [
    {
     "name": "stderr",
     "output_type": "stream",
     "text": [
      "C:\\Users\\user\\AppData\\Local\\Temp/ipykernel_11068/3778532194.py:3: FutureWarning: Dropping invalid columns in DataFrameGroupBy.transform is deprecated. In a future version, a TypeError will be raised. Before calling .transform, select only columns which should be valid for the transforming function.\n",
      "  score_df.groupby('class').transform(lambda x:x.mean())\n"
     ]
    },
    {
     "data": {
      "text/plain": [
       "0.010998725891113281"
      ]
     },
     "execution_count": 9,
     "metadata": {},
     "output_type": "execute_result"
    }
   ],
   "source": [
    "#python的內建函式transform+自訂\n",
    "star_time = time.time()\n",
    "score_df.groupby('class').transform(lambda x:x.mean())\n",
    "end_time = time.time()\n",
    "end_time - star_time"
   ]
  },
  {
   "cell_type": "markdown",
   "id": "d0a9d7fa",
   "metadata": {},
   "source": [
    "結論: python內建函式的讀取速度最快，耗用的時間最低"
   ]
  },
  {
   "cell_type": "markdown",
   "id": "7370f7ed",
   "metadata": {},
   "source": [
    "大型資料集處理-欄位型態降級"
   ]
  },
  {
   "cell_type": "markdown",
   "id": "344f1000",
   "metadata": {},
   "source": [
    "1. 建立大資料集(浮點數、整數資料集)"
   ]
  },
  {
   "cell_type": "code",
   "execution_count": 9,
   "id": "c6f98e95",
   "metadata": {},
   "outputs": [
    {
     "data": {
      "text/plain": [
       "(400128, 800128)"
      ]
     },
     "execution_count": 9,
     "metadata": {},
     "output_type": "execute_result"
    }
   ],
   "source": [
    "float_data = pd.DataFrame(np.random.uniform(0,5,100000).reshape(1000,100))\n",
    "int_data = pd.DataFrame(np.random.randint(0,1000,100000).reshape(1000,100))\n",
    "int_data.memory_usage(deep=True).sum(), float_data.memory_usage(deep=True).sum()"
   ]
  },
  {
   "cell_type": "markdown",
   "id": "6372614a",
   "metadata": {},
   "source": [
    "2. 整數型態int改成unit減少記憶體使用空間\n",
    "   int_data.apply"
   ]
  },
  {
   "cell_type": "code",
   "execution_count": 10,
   "id": "a3f009c0",
   "metadata": {},
   "outputs": [
    {
     "data": {
      "text/plain": [
       "(400128, 200128)"
      ]
     },
     "execution_count": 10,
     "metadata": {},
     "output_type": "execute_result"
    }
   ],
   "source": [
    "downcast_int = int_data.apply(pd.to_numeric, downcast = 'unsigned')\n",
    "int_data.memory_usage(deep = True).sum(), downcast_int.memory_usage(deep=True).sum()"
   ]
  },
  {
   "cell_type": "code",
   "execution_count": 18,
   "id": "f14974a8",
   "metadata": {},
   "outputs": [
    {
     "data": {
      "text/html": [
       "<div>\n",
       "<style scoped>\n",
       "    .dataframe tbody tr th:only-of-type {\n",
       "        vertical-align: middle;\n",
       "    }\n",
       "\n",
       "    .dataframe tbody tr th {\n",
       "        vertical-align: top;\n",
       "    }\n",
       "\n",
       "    .dataframe thead th {\n",
       "        text-align: right;\n",
       "    }\n",
       "</style>\n",
       "<table border=\"1\" class=\"dataframe\">\n",
       "  <thead>\n",
       "    <tr style=\"text-align: right;\">\n",
       "      <th></th>\n",
       "      <th>before</th>\n",
       "      <th>after</th>\n",
       "    </tr>\n",
       "  </thead>\n",
       "  <tbody>\n",
       "    <tr>\n",
       "      <th>uint16</th>\n",
       "      <td>NaN</td>\n",
       "      <td>100.0</td>\n",
       "    </tr>\n",
       "    <tr>\n",
       "      <th>int32</th>\n",
       "      <td>100.0</td>\n",
       "      <td>NaN</td>\n",
       "    </tr>\n",
       "  </tbody>\n",
       "</table>\n",
       "</div>"
      ],
      "text/plain": [
       "        before  after\n",
       "uint16     NaN  100.0\n",
       "int32    100.0    NaN"
      ]
     },
     "execution_count": 18,
     "metadata": {},
     "output_type": "execute_result"
    }
   ],
   "source": [
    "#驗證資料都從int32 downcast uint16\n",
    "compare_int = pd.concat([int_data.dtypes, downcast_int.dtypes], axis = 1)\n",
    "compare_int.columns = ['before', 'after']\n",
    "compare_int.apply(pd.value_counts)\n",
    "\n",
    "#補充: value_counts用法可參考: https://communeit.medium.com/9%E5%80%8Bvalue-counts-%E7%9A%84%E5%B0%8F%E6%8A%80%E5%B7%A7-%E6%8F%90%E9%AB%98pandas-%E8%B3%87%E6%96%99%E5%88%86%E6%9E%90%E6%95%88%E7%8E%87-5af966ac5708"
   ]
  },
  {
   "cell_type": "markdown",
   "id": "5732506c",
   "metadata": {},
   "source": [
    "3. 將浮點數型態 float64 改成 float32 \n",
    "   float_data.apply"
   ]
  },
  {
   "cell_type": "code",
   "execution_count": 19,
   "id": "0a76551a",
   "metadata": {},
   "outputs": [
    {
     "data": {
      "text/plain": [
       "(800128, 400128)"
      ]
     },
     "execution_count": 19,
     "metadata": {},
     "output_type": "execute_result"
    }
   ],
   "source": [
    "downcast_float = float_data.apply(pd.to_numeric, downcast = 'float')\n",
    "float_data.memory_usage(deep = True).sum(), downcast_float.memory_usage(deep = True).sum()"
   ]
  },
  {
   "cell_type": "code",
   "execution_count": 21,
   "id": "f933dbc3",
   "metadata": {},
   "outputs": [
    {
     "data": {
      "text/html": [
       "<div>\n",
       "<style scoped>\n",
       "    .dataframe tbody tr th:only-of-type {\n",
       "        vertical-align: middle;\n",
       "    }\n",
       "\n",
       "    .dataframe tbody tr th {\n",
       "        vertical-align: top;\n",
       "    }\n",
       "\n",
       "    .dataframe thead th {\n",
       "        text-align: right;\n",
       "    }\n",
       "</style>\n",
       "<table border=\"1\" class=\"dataframe\">\n",
       "  <thead>\n",
       "    <tr style=\"text-align: right;\">\n",
       "      <th></th>\n",
       "      <th>before</th>\n",
       "      <th>after</th>\n",
       "    </tr>\n",
       "  </thead>\n",
       "  <tbody>\n",
       "    <tr>\n",
       "      <th>float32</th>\n",
       "      <td>NaN</td>\n",
       "      <td>100.0</td>\n",
       "    </tr>\n",
       "    <tr>\n",
       "      <th>float64</th>\n",
       "      <td>100.0</td>\n",
       "      <td>NaN</td>\n",
       "    </tr>\n",
       "  </tbody>\n",
       "</table>\n",
       "</div>"
      ],
      "text/plain": [
       "         before  after\n",
       "float32     NaN  100.0\n",
       "float64   100.0    NaN"
      ]
     },
     "execution_count": 21,
     "metadata": {},
     "output_type": "execute_result"
    }
   ],
   "source": [
    "#驗證資料都從float64 downcast float32\n",
    "compare_int = pd.concat([float_data.dtypes, downcast_float.dtypes], axis = 1)\n",
    "compare_int.columns = ['before', 'after']\n",
    "compare_int.apply(pd.value_counts)"
   ]
  },
  {
   "cell_type": "markdown",
   "id": "937e6b01",
   "metadata": {},
   "source": [
    "# Homework"
   ]
  },
  {
   "cell_type": "markdown",
   "id": "fa647504",
   "metadata": {},
   "source": [
    "1. 在速度較慢的時候，可以先從哪邊開始檢查？\n",
    "2. 資料過大時應採取什麼方式讓記憶體占用量下降？"
   ]
  },
  {
   "cell_type": "markdown",
   "id": "a50f2809",
   "metadata": {},
   "source": [
    "1. 在速度較慢的時候，可以先從哪邊開始檢查？\n",
    "   先檢查是否有自訂義函數，有的話，檢查Pandas是否有支援相關演算法，若無法改善，則從資料讀取方式下手，\n",
    "   將讀取的檔案改為pkl檔\n",
    "\n",
    "2. 資料過大時應採取什麼方式讓記憶體占用量下降？\n",
    "   將欄位的型態降級"
   ]
  }
 ],
 "metadata": {
  "kernelspec": {
   "display_name": "Python 3 (ipykernel)",
   "language": "python",
   "name": "python3"
  },
  "language_info": {
   "codemirror_mode": {
    "name": "ipython",
    "version": 3
   },
   "file_extension": ".py",
   "mimetype": "text/x-python",
   "name": "python",
   "nbconvert_exporter": "python",
   "pygments_lexer": "ipython3",
   "version": "3.9.7"
  }
 },
 "nbformat": 4,
 "nbformat_minor": 5
}
