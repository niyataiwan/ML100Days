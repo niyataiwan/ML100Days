{
 "cells": [
  {
   "cell_type": "markdown",
   "id": "516abccf",
   "metadata": {},
   "source": [
    "# [作業目標]\n",
    "\n",
    "1. [簡答題] 請問下列兩種將 Array 轉換成 List 的方式有何不同？\n",
    "   print('list(a): ', list(a))\n",
    "   print('tolist(): ', a.tolist)\n",
    "   \n",
    "2. 請試著在程式中印出以下三個 NdArray 的屬性？\n",
    "  （屬性：ndim、shape、size、dtype、itemsize、length、type）\n",
    "   a = np.random.randint(10, size = 6)\n",
    "   b = np.random.randint(10, size = (3,4))\n",
    "   c = np.random.randint(10, size = (2,3,2)\n",
    "  \n",
    "3. [簡答題] 請問 type(...) 跟 a.dtype 這兩個語法有什麼不同？\n",
    "   print('type(a): ', type(a))\n",
    "   print('a.dtype: ', a.dtype)"
   ]
  },
  {
   "cell_type": "markdown",
   "id": "8a98e5c4",
   "metadata": {},
   "source": [
    "\n",
    "## 作業\n",
    "\n",
    "1. [簡答題] 請問 type(...) 跟 a.dtype 這兩個語法有什麼不同？\n",
    "   print('list(a): ', list(a))\n",
    "   print('tolist(): ', a.tolist)"
   ]
  },
  {
   "cell_type": "code",
   "execution_count": 14,
   "id": "b87cf47c",
   "metadata": {},
   "outputs": [
    {
     "name": "stdout",
     "output_type": "stream",
     "text": [
      "list(a):  [array([0, 1, 2]), array([3, 4, 5])]\n",
      "tolist():  [[0, 1, 2], [3, 4, 5]]\n"
     ]
    }
   ],
   "source": [
    "#list(a)只會把第一層的元素轉換成list，多層的話只有第一層會轉\n",
    "#tolist()多層的型態轉換\n",
    "import numpy as np\n",
    "a = np.arange(6).reshape(2,3)\n",
    "\n",
    "print('list(a): ', list(a))\n",
    "print('tolist(): ', a.tolist())"
   ]
  },
  {
   "cell_type": "markdown",
   "id": "d4e1d30c",
   "metadata": {},
   "source": [
    "2. 請試著在程式中印出以下三個 NdArray 的屬性？\n",
    "   （屬性：ndim、shape、size、dtype、itemsize、length、type）\n",
    "   a = np.random.randint(10, size = 6)\n",
    "   b = np.random.randint(10, size = (3,4))\n",
    "   c = np.random.randint(10, size = (2,3,2)"
   ]
  },
  {
   "cell_type": "code",
   "execution_count": 19,
   "id": "dc3c7f8d",
   "metadata": {},
   "outputs": [
    {
     "name": "stdout",
     "output_type": "stream",
     "text": [
      "[8 9 2 2 5 2]\n",
      "1\n",
      "(6,)\n",
      "6\n",
      "int32\n",
      "4\n",
      "6\n",
      "<class 'numpy.ndarray'>\n"
     ]
    }
   ],
   "source": [
    "import numpy as np\n",
    "\n",
    "a = np.random.randint(10, size = 6)\n",
    "print(a)\n",
    "print(a.ndim)\n",
    "print(a.shape)\n",
    "print(a.size)\n",
    "print(a.dtype)\n",
    "print(a.itemsize)\n",
    "print(len(a))\n",
    "print(type(a))"
   ]
  },
  {
   "cell_type": "code",
   "execution_count": 21,
   "id": "df4fe92c",
   "metadata": {},
   "outputs": [
    {
     "name": "stdout",
     "output_type": "stream",
     "text": [
      "[[9 1 7 2]\n",
      " [1 1 0 1]\n",
      " [6 8 6 2]]\n",
      "2\n",
      "(3, 4)\n",
      "12\n",
      "int32\n",
      "4\n",
      "3\n",
      "<class 'numpy.ndarray'>\n"
     ]
    }
   ],
   "source": [
    "import numpy as np\n",
    "\n",
    "b = np.random.randint(10, size = (3,4))\n",
    "print(b)\n",
    "print(b.ndim)\n",
    "print(b.shape)\n",
    "print(b.size)\n",
    "print(b.dtype)\n",
    "print(b.itemsize)\n",
    "print(len(b))\n",
    "print(type(b))"
   ]
  },
  {
   "cell_type": "code",
   "execution_count": 25,
   "id": "d6ca0aaf",
   "metadata": {},
   "outputs": [
    {
     "name": "stdout",
     "output_type": "stream",
     "text": [
      "[[[2 2]\n",
      "  [8 3]\n",
      "  [1 4]]\n",
      "\n",
      " [[5 5]\n",
      "  [0 4]\n",
      "  [4 2]]]\n",
      "3\n",
      "(2, 3, 2)\n",
      "12\n",
      "int32\n",
      "4\n",
      "2\n",
      "<class 'numpy.ndarray'>\n"
     ]
    }
   ],
   "source": [
    "import numpy as np\n",
    "\n",
    "c = np.random.randint(10, size = (2,3,2))\n",
    "print(c)\n",
    "print(c.ndim)\n",
    "print(c.shape)\n",
    "print(c.size)\n",
    "print(c.dtype)\n",
    "print(c.itemsize)\n",
    "print(len(c))\n",
    "print(type(c))"
   ]
  },
  {
   "cell_type": "markdown",
   "id": "2633efac",
   "metadata": {},
   "source": [
    "3. [簡答題] 請問 type(...) 跟 a.dtype 這兩個語法有什麼不同？\n",
    "   print('type(a): ', type(a))\n",
    "   print('a.dtype: ', a.dtype)"
   ]
  },
  {
   "cell_type": "code",
   "execution_count": 35,
   "id": "310929f3",
   "metadata": {},
   "outputs": [
    {
     "name": "stdout",
     "output_type": "stream",
     "text": [
      "type(a): <class 'numpy.ndarray'>\n",
      "a.dtype: int32\n"
     ]
    }
   ],
   "source": [
    "#type() 返回資料結構型別（list、dict、numpy.ndarray 等）\n",
    "#dtype() 返回資料元素的資料型別（int、float等）\n",
    "\n",
    "import numpy as np\n",
    "\n",
    "a = np.random.randint(10, size = 6)\n",
    "\n",
    "print('type(a):', type(a))\n",
    "print('a.dtype:', a.dtype)"
   ]
  }
 ],
 "metadata": {
  "kernelspec": {
   "display_name": "Python 3 (ipykernel)",
   "language": "python",
   "name": "python3"
  },
  "language_info": {
   "codemirror_mode": {
    "name": "ipython",
    "version": 3
   },
   "file_extension": ".py",
   "mimetype": "text/x-python",
   "name": "python",
   "nbconvert_exporter": "python",
   "pygments_lexer": "ipython3",
   "version": "3.9.7"
  }
 },
 "nbformat": 4,
 "nbformat_minor": 5
}
