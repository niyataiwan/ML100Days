{
 "cells": [
  {
   "cell_type": "code",
   "execution_count": null,
   "id": "2719e081",
   "metadata": {},
   "outputs": [],
   "source": [
    "# [作業目標]\n",
    "\n",
    "1. [簡答題] 請問下列兩種將 Array 轉換成 List 的方式有何不同？\n",
    "   print('type(a): ', type(a))\n",
    "   print('a.dtype: ', a.dtype)\n",
    "   \n",
    "2. 請試著在程式中印出以下三個 NdArray 的屬性？\n",
    "  （屬性：ndim、shape、size、dtype、itemsize、length、type）\n",
    "  def is_dtype(a, t):\n",
    "    return a.dtype is t\n",
    "\n",
    "  def is_dtype(a, t):\n",
    "    return type(a) == np.dtype(t)\n",
    "\n",
    "  def is_dtype(a, t):\n",
    "    return type(a) is np.dtype(t)\n",
    "  \n",
    "3. 如何利用 list(...) 實現 a.tolist() 的效果？試著用程式實作。"
   ]
  },
  {
   "cell_type": "code",
   "execution_count": null,
   "id": "880c7f30",
   "metadata": {},
   "outputs": [],
   "source": [
    "## 作業"
   ]
  },
  {
   "cell_type": "markdown",
   "id": "7779ca8a",
   "metadata": {},
   "source": [
    "1. [簡答題] 請問下列兩種將 Array 轉換成 List 的方式有何不同？\n",
    "   print('type(a): ', type(a))\n",
    "   print('a.dtype: ', a.dtype)\n",
    "   \n",
    "   import numpy as np\n",
    "a = np.arange(15).reshape(3, 5)\n",
    "print(a)\n",
    "print('ndim:',a.ndim)\n",
    "print('shape:',a.shape)\n",
    "print('size:',a.size)\n",
    "print('dtype:',a.dtype)\n",
    "print('itemsize:',a.itemsize)\n",
    "print(len(a))\n",
    "print(type(a))\n",
    "print(list(a))\n",
    "print(a.tolist())"
   ]
  },
  {
   "cell_type": "code",
   "execution_count": null,
   "id": "37686ec7",
   "metadata": {},
   "outputs": [],
   "source": []
  }
 ],
 "metadata": {
  "kernelspec": {
   "display_name": "Python 3 (ipykernel)",
   "language": "python",
   "name": "python3"
  },
  "language_info": {
   "codemirror_mode": {
    "name": "ipython",
    "version": 3
   },
   "file_extension": ".py",
   "mimetype": "text/x-python",
   "name": "python",
   "nbconvert_exporter": "python",
   "pygments_lexer": "ipython3",
   "version": "3.9.7"
  }
 },
 "nbformat": 4,
 "nbformat_minor": 5
}
