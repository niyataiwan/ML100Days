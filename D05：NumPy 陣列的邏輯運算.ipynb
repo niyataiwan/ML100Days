{
 "cells": [
  {
   "cell_type": "markdown",
   "id": "ba5f385d",
   "metadata": {},
   "source": [
    "# Study Summary\n",
    "\n",
    "1. 產生一個 1-11 的一維陣列，並且把 3-6 由正數變成負數\n",
    "2. 試著從一個隨機陣列中，找出比 0.5 大的數有幾個？\n",
    "3. 陣列中的比較運算，廣播"
   ]
  },
  {
   "cell_type": "markdown",
   "id": "8c0b9a13",
   "metadata": {},
   "source": [
    "## Summary"
   ]
  },
  {
   "cell_type": "markdown",
   "id": "675fd678",
   "metadata": {},
   "source": [
    "1. 產生一個 1-11 的一維陣列，並且把 3-6 由正數變成負數"
   ]
  },
  {
   "cell_type": "code",
   "execution_count": null,
   "id": "34b0bcbe",
   "metadata": {},
   "outputs": [],
   "source": [
    "import numpy as np"
   ]
  },
  {
   "cell_type": "code",
   "execution_count": 6,
   "id": "0ce36826",
   "metadata": {},
   "outputs": [
    {
     "name": "stdout",
     "output_type": "stream",
     "text": [
      "[ 0  1  2  3  4  5  6  7  8  9 10]\n",
      "[ 0  1  2 -3 -4 -5 -6  7  8  9 10]\n"
     ]
    }
   ],
   "source": [
    "a=np.arange(11)\n",
    "print(a)\n",
    "a[(3<=a) & (a<=6)] *=-1\n",
    "print(a)\n"
   ]
  },
  {
   "cell_type": "markdown",
   "id": "274ed378",
   "metadata": {},
   "source": [
    "2. 試著從一個隨機陣列中，找出比 0.5 大的數有幾個？"
   ]
  },
  {
   "cell_type": "code",
   "execution_count": 8,
   "id": "70cf9812",
   "metadata": {},
   "outputs": [
    {
     "name": "stdout",
     "output_type": "stream",
     "text": [
      "7\n"
     ]
    }
   ],
   "source": [
    "A=np.random.rand(2,6)\n",
    "print(A[A>0.5].size)"
   ]
  },
  {
   "cell_type": "markdown",
   "id": "e44f99d5",
   "metadata": {},
   "source": [
    "3. 陣列中的比較運算，廣播"
   ]
  },
  {
   "cell_type": "code",
   "execution_count": 5,
   "id": "31c2cf29",
   "metadata": {},
   "outputs": [
    {
     "name": "stdout",
     "output_type": "stream",
     "text": [
      "[ True  True  True  True]\n",
      "[False False False False]\n",
      "[False False False False]\n",
      "[ True  True  True  True]\n"
     ]
    }
   ],
   "source": [
    "a = np.array([20,30,40,50])\n",
    "b = np.arange(4)\n",
    "print(a>b)\n",
    "print(a<b)\n",
    "print(a==b)\n",
    "print(a!=b)"
   ]
  },
  {
   "cell_type": "code",
   "execution_count": 8,
   "id": "46512ff6",
   "metadata": {},
   "outputs": [
    {
     "name": "stdout",
     "output_type": "stream",
     "text": [
      "wang\n",
      "33\n"
     ]
    }
   ],
   "source": [
    "thriller=['niya','jay','wang','lin']\n",
    "print(thriller[2])\n",
    "thriller=[11,22,33,44,55]\n",
    "print(thriller[2])"
   ]
  },
  {
   "cell_type": "code",
   "execution_count": 12,
   "id": "a77947a1",
   "metadata": {},
   "outputs": [
    {
     "name": "stdout",
     "output_type": "stream",
     "text": [
      "[0 1 2 3 4 5 6 7 8 9]\n",
      "[False False False False False False False  True  True  True]\n",
      "[7 8 9]\n"
     ]
    }
   ],
   "source": [
    "#遮罩特性背後的強大之處\n",
    "a=np.arange(10)\n",
    "print(a)\n",
    "print(a>6) #利用布林值作為篩選的條件：遮罩 Mask\n",
    "print(a[a>6])"
   ]
  },
  {
   "cell_type": "code",
   "execution_count": 10,
   "id": "fa1e52ac",
   "metadata": {},
   "outputs": [
    {
     "name": "stdout",
     "output_type": "stream",
     "text": [
      "[False False  True]\n",
      "[10 30]\n",
      "[array([False, False,  True])]\n"
     ]
    }
   ],
   "source": [
    "a = np.array([10,20,30])\n",
    "print (a>20)\n",
    "print(a[ [True, False, True] ])\n",
    "print( [a>20] )"
   ]
  },
  {
   "cell_type": "code",
   "execution_count": 18,
   "id": "9831a299",
   "metadata": {},
   "outputs": [
    {
     "name": "stdout",
     "output_type": "stream",
     "text": [
      "[7, 8, 9]\n"
     ]
    }
   ],
   "source": [
    "a = np.arange( 10 )\n",
    "b = []\n",
    "for i in a:\n",
    "    if i > 6 :\n",
    "        b.append(i)\n",
    "print(b)"
   ]
  },
  {
   "cell_type": "markdown",
   "id": "7e517bb4",
   "metadata": {},
   "source": [
    "# [作業目標]\n",
    "\n",
    "1. 產生一個 1-11 的一維陣列，並且把 3-6 由正數變成負數。\n",
    "2. 試著從一個隨機陣列中，找出比 0.5 大的數有幾個？"
   ]
  },
  {
   "cell_type": "markdown",
   "id": "c7a311dc",
   "metadata": {},
   "source": [
    "## 作業"
   ]
  },
  {
   "cell_type": "markdown",
   "id": "7cd6dadd",
   "metadata": {},
   "source": [
    "1. 產生一個 1-11 的一維陣列，並且把 3-6 由正數變成負數。"
   ]
  },
  {
   "cell_type": "code",
   "execution_count": 10,
   "id": "5ac12d1f",
   "metadata": {},
   "outputs": [
    {
     "name": "stdout",
     "output_type": "stream",
     "text": [
      "[ 0  1  2  3  4  5  6  7  8  9 10]\n",
      "[ 0  1  2 -3 -4 -5 -6  7  8  9 10]\n"
     ]
    }
   ],
   "source": [
    "a=np.arange(11)\n",
    "print(a)\n",
    "a[(a>=3) & (a<=6) ] *= -1\n",
    "print(a)"
   ]
  },
  {
   "cell_type": "markdown",
   "id": "93098a99",
   "metadata": {},
   "source": [
    "2. 試著從一個隨機陣列中，找出比 0.5 大的數有幾個？"
   ]
  },
  {
   "cell_type": "code",
   "execution_count": 1,
   "id": "37354e20",
   "metadata": {},
   "outputs": [
    {
     "name": "stdout",
     "output_type": "stream",
     "text": [
      "[0.66685679 0.97395146 0.53657485 0.74778422 0.63962405]\n",
      "5\n",
      "[[0.49818499 0.12177453 0.66685679 0.10464625 0.14970882 0.97395146]\n",
      " [0.53657485 0.74778422 0.38530053 0.49685975 0.63962405 0.4200787 ]]\n"
     ]
    }
   ],
   "source": [
    "a= np.random.rand(2,6)\n",
    "print(a[a> 0.5])\n",
    "print(a[a> 0.5].size)"
   ]
  }
 ],
 "metadata": {
  "kernelspec": {
   "display_name": "Python 3 (ipykernel)",
   "language": "python",
   "name": "python3"
  },
  "language_info": {
   "codemirror_mode": {
    "name": "ipython",
    "version": 3
   },
   "file_extension": ".py",
   "mimetype": "text/x-python",
   "name": "python",
   "nbconvert_exporter": "python",
   "pygments_lexer": "ipython3",
   "version": "3.9.7"
  }
 },
 "nbformat": 4,
 "nbformat_minor": 5
}
