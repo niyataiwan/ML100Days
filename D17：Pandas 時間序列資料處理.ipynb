{
 "cells": [
  {
   "cell_type": "markdown",
   "id": "cc5baa11",
   "metadata": {},
   "source": [
    "# Study Summary"
   ]
  },
  {
   "cell_type": "markdown",
   "id": "3fae85f9",
   "metadata": {},
   "source": [
    "1. to_period() 取Y、M、D、H的應用\n",
    "2. resample 函數將年轉成季，如沒有值的填上 nan\n",
    "   Y: 年; Q: 季; M: 月; D: 日 \n",
    "   resample('Q', convention='start').asfreq()\n",
    "3. 沿著時間軸將資料前移或後移 shift(number of day, freq = 'n')\n",
    "4. 時間需要使用 pd.Timestamp() 做設定\n",
    "4-1. 時間跟字串可以互相轉換\n",
    "     時間轉字串 strftime('%Y-%m_%d')\n",
    "     字串轉時間 to_datetime()\n",
    "4-2. timestamps 常用函數\n",
    "     年月日 date.year, date.month, date.day\n",
    "     星期 day_name()\n",
    "     週數 weekofyear\n",
    "4-3. Timestamps 可以直接加時間或是計算時間差距"
   ]
  },
  {
   "cell_type": "markdown",
   "id": "b76ab62c",
   "metadata": {},
   "source": [
    "時間序列的資料非常注重間的間隔\n",
    "控制時間長度的函數.to_period()，\n",
    "參數 freq 代表時間頻率(Y：年、M：月、D：日、H：小時)"
   ]
  },
  {
   "cell_type": "markdown",
   "id": "03338752",
   "metadata": {},
   "source": [
    "1. to_period() 取Y、M、D、H的應用"
   ]
  },
  {
   "cell_type": "code",
   "execution_count": 27,
   "id": "80b41927",
   "metadata": {},
   "outputs": [
    {
     "data": {
      "text/html": [
       "<div>\n",
       "<style scoped>\n",
       "    .dataframe tbody tr th:only-of-type {\n",
       "        vertical-align: middle;\n",
       "    }\n",
       "\n",
       "    .dataframe tbody tr th {\n",
       "        vertical-align: top;\n",
       "    }\n",
       "\n",
       "    .dataframe thead th {\n",
       "        text-align: right;\n",
       "    }\n",
       "</style>\n",
       "<table border=\"1\" class=\"dataframe\">\n",
       "  <thead>\n",
       "    <tr style=\"text-align: right;\">\n",
       "      <th></th>\n",
       "      <th>y</th>\n",
       "    </tr>\n",
       "  </thead>\n",
       "  <tbody>\n",
       "    <tr>\n",
       "      <th>2023-03-31 04:00:00</th>\n",
       "      <td>1</td>\n",
       "    </tr>\n",
       "    <tr>\n",
       "      <th>2023-05-31 06:05:00</th>\n",
       "      <td>2</td>\n",
       "    </tr>\n",
       "    <tr>\n",
       "      <th>2023-08-31 08:00:50</th>\n",
       "      <td>3</td>\n",
       "    </tr>\n",
       "  </tbody>\n",
       "</table>\n",
       "</div>"
      ],
      "text/plain": [
       "                     y\n",
       "2023-03-31 04:00:00  1\n",
       "2023-05-31 06:05:00  2\n",
       "2023-08-31 08:00:50  3"
      ]
     },
     "execution_count": 27,
     "metadata": {},
     "output_type": "execute_result"
    }
   ],
   "source": [
    "import pandas as pd\n",
    "\n",
    "df = pd.DataFrame({\"y\": [1, 2, 3]},\n",
    "                  index=pd.to_datetime([\"2023-03-31 04:00:00\",\n",
    "                                        \"2023-05-31 06:05:00\",\n",
    "                                        \"2023-08-31 08:00:50\"]))\n",
    "df"
   ]
  },
  {
   "cell_type": "code",
   "execution_count": 32,
   "id": "3df94bd8",
   "metadata": {},
   "outputs": [
    {
     "data": {
      "text/plain": [
       "(      y\n",
       " 2023  1\n",
       " 2023  2\n",
       " 2023  3,\n",
       "          y\n",
       " 2023-03  1\n",
       " 2023-05  2\n",
       " 2023-08  3,\n",
       "             y\n",
       " 2023-03-31  1\n",
       " 2023-05-31  2\n",
       " 2023-08-31  3,\n",
       "                   y\n",
       " 2023-03-31 04:00  1\n",
       " 2023-05-31 06:00  2\n",
       " 2023-08-31 08:00  3)"
      ]
     },
     "execution_count": 32,
     "metadata": {},
     "output_type": "execute_result"
    }
   ],
   "source": [
    "df.to_period('Y'), df.to_period('M'), df.to_period('D'), df.to_period('H')"
   ]
  },
  {
   "cell_type": "markdown",
   "id": "8cf50e53",
   "metadata": {},
   "source": [
    "2. resample 函數將年轉成季，如沒有值的填上 nan\n",
    "   Y: 年; Q: 季; M: 月; D: 日 \n",
    "   resample('Q', convention='start').asfreq()"
   ]
  },
  {
   "cell_type": "code",
   "execution_count": 61,
   "id": "569546ad",
   "metadata": {},
   "outputs": [
    {
     "data": {
      "text/plain": [
       "2021    1\n",
       "2022    2\n",
       "2023    3\n",
       "2024    4\n",
       "2025    5\n",
       "Freq: A-DEC, dtype: int64"
      ]
     },
     "execution_count": 61,
     "metadata": {},
     "output_type": "execute_result"
    }
   ],
   "source": [
    "import pandas as pd\n",
    "\n",
    "df = pd.Series([1, 2, 3, 4, 5], index=pd.period_range('2021-01-01', freq='Y', periods=5))\n",
    "df"
   ]
  },
  {
   "cell_type": "code",
   "execution_count": 62,
   "id": "bdcef6a4",
   "metadata": {},
   "outputs": [
    {
     "data": {
      "text/plain": [
       "2021Q1    1.0\n",
       "2021Q2    NaN\n",
       "2021Q3    NaN\n",
       "2021Q4    NaN\n",
       "2022Q1    2.0\n",
       "2022Q2    NaN\n",
       "2022Q3    NaN\n",
       "2022Q4    NaN\n",
       "2023Q1    3.0\n",
       "2023Q2    NaN\n",
       "2023Q3    NaN\n",
       "2023Q4    NaN\n",
       "2024Q1    4.0\n",
       "2024Q2    NaN\n",
       "2024Q3    NaN\n",
       "2024Q4    NaN\n",
       "2025Q1    5.0\n",
       "2025Q2    NaN\n",
       "2025Q3    NaN\n",
       "2025Q4    NaN\n",
       "Freq: Q-DEC, dtype: float64"
      ]
     },
     "execution_count": 62,
     "metadata": {},
     "output_type": "execute_result"
    }
   ],
   "source": [
    "df.resample('Q', convention='start').asfreq()"
   ]
  },
  {
   "cell_type": "markdown",
   "id": "dea36b7f",
   "metadata": {},
   "source": [
    "2-1. 找到特定時間點的資料"
   ]
  },
  {
   "cell_type": "code",
   "execution_count": 63,
   "id": "f33bc584",
   "metadata": {},
   "outputs": [
    {
     "data": {
      "text/plain": [
       "2021    1\n",
       "2022    2\n",
       "2023    3\n",
       "Freq: A-DEC, dtype: int64"
      ]
     },
     "execution_count": 63,
     "metadata": {},
     "output_type": "execute_result"
    }
   ],
   "source": [
    "df['2021Q1':'2023Q4']"
   ]
  },
  {
   "cell_type": "markdown",
   "id": "2fd128de",
   "metadata": {},
   "source": [
    "3. 沿著時間軸將資料前移或後移 shift(number of day, freq = 'n')"
   ]
  },
  {
   "cell_type": "code",
   "execution_count": 70,
   "id": "998b8772",
   "metadata": {},
   "outputs": [
    {
     "data": {
      "text/plain": [
       "DatetimeIndex(['2023-01-01', '2023-01-02', '2023-01-03', '2023-01-04',\n",
       "               '2023-01-05'],\n",
       "              dtype='datetime64[ns]', freq='D')"
      ]
     },
     "execution_count": 70,
     "metadata": {},
     "output_type": "execute_result"
    }
   ],
   "source": [
    "ts = pd.date_range('2023-01-01', periods = 5)\n",
    "ts"
   ]
  },
  {
   "cell_type": "code",
   "execution_count": 73,
   "id": "a239ab9c",
   "metadata": {},
   "outputs": [
    {
     "data": {
      "text/plain": [
       "DatetimeIndex(['2022-12-30', '2022-12-31', '2023-01-01', '2023-01-02',\n",
       "               '2023-01-03'],\n",
       "              dtype='datetime64[ns]', freq='D')"
      ]
     },
     "execution_count": 73,
     "metadata": {},
     "output_type": "execute_result"
    }
   ],
   "source": [
    "#往前移動2天\n",
    "ts.shift(-2, freq='D')"
   ]
  },
  {
   "cell_type": "code",
   "execution_count": 74,
   "id": "ec5ab10b",
   "metadata": {},
   "outputs": [
    {
     "data": {
      "text/plain": [
       "DatetimeIndex(['2023-01-03', '2023-01-04', '2023-01-05', '2023-01-06',\n",
       "               '2023-01-07'],\n",
       "              dtype='datetime64[ns]', freq='D')"
      ]
     },
     "execution_count": 74,
     "metadata": {},
     "output_type": "execute_result"
    }
   ],
   "source": [
    "#往後移動2天\n",
    "ts.shift(2, freq='D')"
   ]
  },
  {
   "cell_type": "markdown",
   "id": "ab550b13",
   "metadata": {},
   "source": [
    "4. 時間需要使用 pd.Timestamp() 做設定"
   ]
  },
  {
   "cell_type": "code",
   "execution_count": 85,
   "id": "ed2f30e6",
   "metadata": {},
   "outputs": [
    {
     "data": {
      "text/plain": [
       "(('2021-01-01', str),\n",
       " (Timestamp('2021-01-01 00:00:00'), pandas._libs.tslibs.timestamps.Timestamp))"
      ]
     },
     "execution_count": 85,
     "metadata": {},
     "output_type": "execute_result"
    }
   ],
   "source": [
    "#type: 字串\n",
    "str_date = '2021-01-01'\n",
    "\n",
    "#type: timestamp\n",
    "date = pd.Timestamp(2021,1,1)\n",
    "\n",
    "(str_date, type(str_date)),(date, type(date))"
   ]
  },
  {
   "cell_type": "markdown",
   "id": "386bfe5a",
   "metadata": {},
   "source": [
    "4-1. 時間跟字串可以互相轉換\n",
    "     時間轉字串 strftime('%Y-%m_%d')\n",
    "     字串轉時間 to_datetime()"
   ]
  },
  {
   "cell_type": "code",
   "execution_count": 86,
   "id": "894005a8",
   "metadata": {},
   "outputs": [
    {
     "data": {
      "text/plain": [
       "(('2021-01_01', str),\n",
       " (Timestamp('2021-01-01 00:00:00'), pandas._libs.tslibs.timestamps.Timestamp))"
      ]
     },
     "execution_count": 86,
     "metadata": {},
     "output_type": "execute_result"
    }
   ],
   "source": [
    "#時間轉字串 strftime('%Y-%m_%d')\n",
    "date_to_str = date.strftime('%Y-%m_%d')\n",
    "\n",
    "#字串轉時間 to_datetime()\n",
    "str_to_date = pd.to_datetime(str_date)\n",
    "\n",
    "(date_to_str, type(date_to_str)), (str_to_date, type(str_to_date))"
   ]
  },
  {
   "cell_type": "markdown",
   "id": "c949d0b5",
   "metadata": {},
   "source": [
    "4-2. timestamps 常用函數\n",
    "     年月日 date.year, date.month, date.day\n",
    "     星期 day_name()\n",
    "     週數 weekofyear"
   ]
  },
  {
   "cell_type": "code",
   "execution_count": 87,
   "id": "793329b1",
   "metadata": {},
   "outputs": [
    {
     "data": {
      "text/plain": [
       "Timestamp('2021-01-01 00:00:00')"
      ]
     },
     "execution_count": 87,
     "metadata": {},
     "output_type": "execute_result"
    }
   ],
   "source": [
    "date"
   ]
  },
  {
   "cell_type": "code",
   "execution_count": 91,
   "id": "01ee81af",
   "metadata": {},
   "outputs": [
    {
     "data": {
      "text/plain": [
       "(2021, 1, 1)"
      ]
     },
     "execution_count": 91,
     "metadata": {},
     "output_type": "execute_result"
    }
   ],
   "source": [
    "#年月日 date.year, date.month, date.day\n",
    "date.year, date.month, date.day"
   ]
  },
  {
   "cell_type": "code",
   "execution_count": 95,
   "id": "b08aa8c9",
   "metadata": {},
   "outputs": [
    {
     "data": {
      "text/plain": [
       "'Friday'"
      ]
     },
     "execution_count": 95,
     "metadata": {},
     "output_type": "execute_result"
    }
   ],
   "source": [
    "#星期 day_name()\n",
    "date.day_name()"
   ]
  },
  {
   "cell_type": "code",
   "execution_count": 93,
   "id": "913889be",
   "metadata": {},
   "outputs": [
    {
     "data": {
      "text/plain": [
       "53"
      ]
     },
     "execution_count": 93,
     "metadata": {},
     "output_type": "execute_result"
    }
   ],
   "source": [
    "#週數 weekofyear\n",
    "date.weekofyear"
   ]
  },
  {
   "cell_type": "markdown",
   "id": "f01dbfaa",
   "metadata": {},
   "source": [
    "4-3. Timestamps 可以直接加時間或是計算時間差距"
   ]
  },
  {
   "cell_type": "code",
   "execution_count": 96,
   "id": "567e5381",
   "metadata": {},
   "outputs": [
    {
     "data": {
      "text/plain": [
       "(Timestamp('2021-01-01 00:00:00'), Timestamp('2021-01-11 00:00:00'))"
      ]
     },
     "execution_count": 96,
     "metadata": {},
     "output_type": "execute_result"
    }
   ],
   "source": [
    "date2 = pd.Timestamp(2021,1,11)\n",
    "date, date2"
   ]
  },
  {
   "cell_type": "code",
   "execution_count": 97,
   "id": "58d7eb99",
   "metadata": {},
   "outputs": [
    {
     "data": {
      "text/plain": [
       "Timedelta('10 days 00:00:00')"
      ]
     },
     "execution_count": 97,
     "metadata": {},
     "output_type": "execute_result"
    }
   ],
   "source": [
    "date2 - date #相差10天"
   ]
  },
  {
   "cell_type": "code",
   "execution_count": 98,
   "id": "a73044c5",
   "metadata": {},
   "outputs": [
    {
     "data": {
      "text/plain": [
       "True"
      ]
     },
     "execution_count": 98,
     "metadata": {},
     "output_type": "execute_result"
    }
   ],
   "source": [
    "#反驗證\n",
    "date + pd.Timedelta(days=10) == date2"
   ]
  },
  {
   "cell_type": "markdown",
   "id": "d82a56a9",
   "metadata": {},
   "source": [
    "# Homework"
   ]
  },
  {
   "cell_type": "markdown",
   "id": "3a93f10d",
   "metadata": {},
   "source": [
    "題目：運下列時間序列資料做運算\n",
    "\n",
    "index = pd.date_range(\"1/1/2019\", periods=20, freq='D')\n",
    "series = pd.Series(range(20), index=index)\n",
    "\n",
    "1. 將所有轉為周資料\n",
    "2. 將周資料的值取平均"
   ]
  },
  {
   "cell_type": "code",
   "execution_count": 140,
   "id": "1c1c00f9",
   "metadata": {},
   "outputs": [
    {
     "data": {
      "text/plain": [
       "2023-01-01     0\n",
       "2023-01-02     1\n",
       "2023-01-03     2\n",
       "2023-01-04     3\n",
       "2023-01-05     4\n",
       "2023-01-06     5\n",
       "2023-01-07     6\n",
       "2023-01-08     7\n",
       "2023-01-09     8\n",
       "2023-01-10     9\n",
       "2023-01-11    10\n",
       "2023-01-12    11\n",
       "2023-01-13    12\n",
       "2023-01-14    13\n",
       "2023-01-15    14\n",
       "2023-01-16    15\n",
       "2023-01-17    16\n",
       "2023-01-18    17\n",
       "2023-01-19    18\n",
       "2023-01-20    19\n",
       "Freq: D, dtype: int64"
      ]
     },
     "execution_count": 140,
     "metadata": {},
     "output_type": "execute_result"
    }
   ],
   "source": [
    "import pandas as pd\n",
    "\n",
    "index = pd.date_range(\"2023/01/01\", periods=20, freq='D')\n",
    "series = pd.Series(range(20), index=index)\n",
    "series\n"
   ]
  },
  {
   "cell_type": "markdown",
   "id": "27afd8ef",
   "metadata": {},
   "source": [
    "1. 將所有轉為周資料"
   ]
  },
  {
   "cell_type": "code",
   "execution_count": 141,
   "id": "1b64a335",
   "metadata": {},
   "outputs": [
    {
     "data": {
      "text/plain": [
       "2022-12-26/2023-01-01     0\n",
       "2023-01-02/2023-01-08     1\n",
       "2023-01-02/2023-01-08     2\n",
       "2023-01-02/2023-01-08     3\n",
       "2023-01-02/2023-01-08     4\n",
       "2023-01-02/2023-01-08     5\n",
       "2023-01-02/2023-01-08     6\n",
       "2023-01-02/2023-01-08     7\n",
       "2023-01-09/2023-01-15     8\n",
       "2023-01-09/2023-01-15     9\n",
       "2023-01-09/2023-01-15    10\n",
       "2023-01-09/2023-01-15    11\n",
       "2023-01-09/2023-01-15    12\n",
       "2023-01-09/2023-01-15    13\n",
       "2023-01-09/2023-01-15    14\n",
       "2023-01-16/2023-01-22    15\n",
       "2023-01-16/2023-01-22    16\n",
       "2023-01-16/2023-01-22    17\n",
       "2023-01-16/2023-01-22    18\n",
       "2023-01-16/2023-01-22    19\n",
       "Freq: W-SUN, dtype: int64"
      ]
     },
     "execution_count": 141,
     "metadata": {},
     "output_type": "execute_result"
    }
   ],
   "source": [
    "series.to_period('W') #1/1是禮拜日，所天每周日為一週，1/1的下周日是1/8"
   ]
  },
  {
   "cell_type": "code",
   "execution_count": 142,
   "id": "b5c41d50",
   "metadata": {},
   "outputs": [
    {
     "data": {
      "text/plain": [
       "2023-01-01    52\n",
       "2023-01-02     1\n",
       "2023-01-03     1\n",
       "2023-01-04     1\n",
       "2023-01-05     1\n",
       "2023-01-06     1\n",
       "2023-01-07     1\n",
       "2023-01-08     1\n",
       "2023-01-09     2\n",
       "2023-01-10     2\n",
       "2023-01-11     2\n",
       "2023-01-12     2\n",
       "2023-01-13     2\n",
       "2023-01-14     2\n",
       "2023-01-15     2\n",
       "2023-01-16     3\n",
       "2023-01-17     3\n",
       "2023-01-18     3\n",
       "2023-01-19     3\n",
       "2023-01-20     3\n",
       "Freq: D, Name: week, dtype: UInt32"
      ]
     },
     "execution_count": 142,
     "metadata": {},
     "output_type": "execute_result"
    }
   ],
   "source": [
    "#計算幾週\n",
    "index.isocalendar().week #三週"
   ]
  },
  {
   "cell_type": "markdown",
   "id": "70baae24",
   "metadata": {},
   "source": [
    "2. 將周資料的值取平均"
   ]
  },
  {
   "cell_type": "code",
   "execution_count": 147,
   "id": "662034cc",
   "metadata": {},
   "outputs": [
    {
     "data": {
      "text/plain": [
       "2023-01-01     0.0\n",
       "2023-01-08     4.0\n",
       "2023-01-15    11.0\n",
       "2023-01-22    17.0\n",
       "Freq: W-SUN, dtype: float64"
      ]
     },
     "execution_count": 147,
     "metadata": {},
     "output_type": "execute_result"
    }
   ],
   "source": [
    "series.resample('W', convention='start').mean()"
   ]
  }
 ],
 "metadata": {
  "kernelspec": {
   "display_name": "Python 3 (ipykernel)",
   "language": "python",
   "name": "python3"
  },
  "language_info": {
   "codemirror_mode": {
    "name": "ipython",
    "version": 3
   },
   "file_extension": ".py",
   "mimetype": "text/x-python",
   "name": "python",
   "nbconvert_exporter": "python",
   "pygments_lexer": "ipython3",
   "version": "3.9.7"
  }
 },
 "nbformat": 4,
 "nbformat_minor": 5
}
