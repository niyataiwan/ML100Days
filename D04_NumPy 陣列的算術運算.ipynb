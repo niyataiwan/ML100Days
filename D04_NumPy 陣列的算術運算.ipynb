{
 "cells": [
  {
   "cell_type": "markdown",
   "id": "af7f4206",
   "metadata": {},
   "source": [
    "1. [簡答題] 請問下列程式碼，運算結果分別為何？\n",
    "2. 如何在不用迴圈的情況下計算 (A+B)*(-A/2) ？那用迴圈怎麼做？\n",
    "3. 請問如何計算「1x6 的單位矩陣」和「6x1 的單位矩陣」的內積和外積？\n",
    "4. 廣播（Broadcast）運算的特性\n",
    "5. 用容器運算(append)，達到陣列運算結果\n",
    "6. 用flat運算多維陣列"
   ]
  },
  {
   "cell_type": "markdown",
   "id": "54f5978b",
   "metadata": {},
   "source": [
    "1. [簡答題] 請問下列程式碼，運算結果分別為何？"
   ]
  },
  {
   "cell_type": "code",
   "execution_count": 35,
   "id": "701ba214",
   "metadata": {},
   "outputs": [
    {
     "name": "stdout",
     "output_type": "stream",
     "text": [
      "1: [ 40  60  80 100]\n",
      "2: [21 32 43 54]\n",
      "3: [21 31 41 51]\n",
      "4: [21 31 41 51]\n"
     ]
    },
    {
     "ename": "ValueError",
     "evalue": "operands could not be broadcast together with shapes (4,) (2,) ",
     "output_type": "error",
     "traceback": [
      "\u001b[1;31m---------------------------------------------------------------------------\u001b[0m",
      "\u001b[1;31mValueError\u001b[0m                                Traceback (most recent call last)",
      "\u001b[1;32m~\\AppData\\Local\\Temp/ipykernel_12024/2019171903.py\u001b[0m in \u001b[0;36m<module>\u001b[1;34m\u001b[0m\n\u001b[0;32m      9\u001b[0m \u001b[0mprint\u001b[0m\u001b[1;33m(\u001b[0m\u001b[1;34m'3:'\u001b[0m\u001b[1;33m,\u001b[0m \u001b[0ma\u001b[0m\u001b[1;33m+\u001b[0m\u001b[0mc\u001b[0m\u001b[1;33m)\u001b[0m\u001b[1;33m\u001b[0m\u001b[1;33m\u001b[0m\u001b[0m\n\u001b[0;32m     10\u001b[0m \u001b[0mprint\u001b[0m\u001b[1;33m(\u001b[0m\u001b[1;34m'4:'\u001b[0m\u001b[1;33m,\u001b[0m \u001b[0ma\u001b[0m\u001b[1;33m+\u001b[0m\u001b[0md\u001b[0m\u001b[1;33m)\u001b[0m\u001b[1;33m\u001b[0m\u001b[1;33m\u001b[0m\u001b[0m\n\u001b[1;32m---> 11\u001b[1;33m \u001b[0mprint\u001b[0m\u001b[1;33m(\u001b[0m\u001b[1;34m'5:'\u001b[0m\u001b[1;33m,\u001b[0m \u001b[0ma\u001b[0m\u001b[1;33m+\u001b[0m\u001b[0me\u001b[0m\u001b[1;33m)\u001b[0m\u001b[1;33m\u001b[0m\u001b[1;33m\u001b[0m\u001b[0m\n\u001b[0m",
      "\u001b[1;31mValueError\u001b[0m: operands could not be broadcast together with shapes (4,) (2,) "
     ]
    }
   ],
   "source": [
    "import numpy as np\n",
    "a = np.array( [20,30,40,50] )\n",
    "b = np.array( [1,2,3,4] ) \n",
    "c = 1\n",
    "d = np.array( [1] )\n",
    "e = np.array( [1,2] ) \n",
    "print('1:', a+a)\n",
    "print('2:', a+b)\n",
    "print('3:', a+c)\n",
    "print('4:', a+d)\n",
    "print('5:', a+e)"
   ]
  },
  {
   "cell_type": "markdown",
   "id": "66e54486",
   "metadata": {},
   "source": [
    "2. 如何在不用迴圈的情況下計算 (A+B)*(-A/2) ？那用迴圈怎麼做？"
   ]
  },
  {
   "cell_type": "code",
   "execution_count": 13,
   "id": "fa932b6f",
   "metadata": {},
   "outputs": [
    {
     "name": "stdout",
     "output_type": "stream",
     "text": [
      "[ 3  6  9 12]\n",
      "[ -3. -12. -27. -48.]\n"
     ]
    }
   ],
   "source": [
    "a = np.array( [2,4,6,8] )\n",
    "b = np.array( [1,2,3,4] )\n",
    "c= a+b\n",
    "print(c)\n",
    "\n",
    "d=-a/2\n",
    "print(c*d)"
   ]
  },
  {
   "cell_type": "code",
   "execution_count": 18,
   "id": "7d570357",
   "metadata": {},
   "outputs": [
    {
     "name": "stdout",
     "output_type": "stream",
     "text": [
      "[-3. -3. -3.]\n"
     ]
    }
   ],
   "source": [
    "a=np.ones(3)*2\n",
    "b=np.ones(3)*1\n",
    "print((a+b) * (-a/2))"
   ]
  },
  {
   "cell_type": "markdown",
   "id": "4c67fb66",
   "metadata": {},
   "source": [
    "3. 請問如何計算「1x6 的單位矩陣」和「6x1 的單位矩陣」的內積和外積？"
   ]
  },
  {
   "cell_type": "code",
   "execution_count": 25,
   "id": "7f55351c",
   "metadata": {},
   "outputs": [
    {
     "name": "stdout",
     "output_type": "stream",
     "text": [
      "[[1. 1. 1. 1. 1. 1.]\n",
      " [1. 1. 1. 1. 1. 1.]\n",
      " [1. 1. 1. 1. 1. 1.]\n",
      " [1. 1. 1. 1. 1. 1.]\n",
      " [1. 1. 1. 1. 1. 1.]\n",
      " [1. 1. 1. 1. 1. 1.]]\n",
      "[[6.]]\n"
     ]
    }
   ],
   "source": [
    "a=np.ones((1,6))\n",
    "b=np.ones((6,1))\n",
    "print(a * b)\n",
    "print(a @ b)"
   ]
  },
  {
   "cell_type": "markdown",
   "id": "e0c9878e",
   "metadata": {},
   "source": [
    "4. 廣播（Broadcast）運算的特性"
   ]
  },
  {
   "cell_type": "code",
   "execution_count": 19,
   "id": "49518a33",
   "metadata": {},
   "outputs": [
    {
     "name": "stdout",
     "output_type": "stream",
     "text": [
      "[ 5 15 25 35 45]\n",
      "[1. 2. 3. 4. 5.]\n",
      "[11 21 31 41 51]\n"
     ]
    }
   ],
   "source": [
    "import numpy as np\n",
    "a=np.array([10,20,30,40,50])\n",
    "print(a-5)\n",
    "print(a/10)\n",
    "print(a+1)"
   ]
  },
  {
   "cell_type": "markdown",
   "id": "fc3f1203",
   "metadata": {},
   "source": [
    "5. python的容器運算(append)，同樣可以達到陣列運算的結果"
   ]
  },
  {
   "cell_type": "code",
   "execution_count": 18,
   "id": "f9497c61",
   "metadata": {},
   "outputs": [
    {
     "name": "stdout",
     "output_type": "stream",
     "text": [
      "[11, 21, 31, 41, 51]\n",
      "[[2 2]\n",
      " [4 5]\n",
      " [8 9]]\n"
     ]
    }
   ],
   "source": [
    "a=[10,20,30,40,50]\n",
    "b=[]\n",
    "for i in a:\n",
    "    b.append(i+1)\n",
    "print(b)\n",
    "\n",
    "data=np.array([[1,1],[3,4],[7,8]])\n",
    "new_row=np.array([[1,1]])\n",
    "print(data+new_row)"
   ]
  },
  {
   "cell_type": "markdown",
   "id": "eb6194db",
   "metadata": {},
   "source": [
    "6. 用flat運算多維陣列"
   ]
  },
  {
   "cell_type": "code",
   "execution_count": 27,
   "id": "36a26db0",
   "metadata": {},
   "outputs": [
    {
     "name": "stdout",
     "output_type": "stream",
     "text": [
      "[21 31 41 51]\n",
      "[[10 11 12 13 14]\n",
      " [15 16 17 18 19]]\n",
      "10\n",
      "11\n",
      "12\n",
      "13\n",
      "14\n",
      "15\n"
     ]
    }
   ],
   "source": [
    "import numpy as np\n",
    "a = np.array([20,30,40,50])+1\n",
    "print(a)\n",
    "\n",
    "b = np.arange(10).reshape(2,5)+10\n",
    "print(b)\n",
    "\n",
    "c = np.arange(6).reshape(3,2)\n",
    "for row in c.flat:\n",
    "        row = row+10\n",
    "        print(row)"
   ]
  }
 ],
 "metadata": {
  "kernelspec": {
   "display_name": "Python 3 (ipykernel)",
   "language": "python",
   "name": "python3"
  },
  "language_info": {
   "codemirror_mode": {
    "name": "ipython",
    "version": 3
   },
   "file_extension": ".py",
   "mimetype": "text/x-python",
   "name": "python",
   "nbconvert_exporter": "python",
   "pygments_lexer": "ipython3",
   "version": "3.9.7"
  }
 },
 "nbformat": 4,
 "nbformat_minor": 5
}
