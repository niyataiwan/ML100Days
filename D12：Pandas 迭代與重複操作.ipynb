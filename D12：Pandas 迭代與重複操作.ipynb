{
 "cells": [
  {
   "cell_type": "markdown",
   "id": "63b1502d",
   "metadata": {},
   "source": [
    "# Study Summary\n",
    "\n",
    "1. 知道 DataFrame 中迴圈的運作規則\n",
    "2. 了解 DataFrame 中 Map、 Apply、Applymap 差異\n",
    "3. 知道不建議在 DataFrame 進行迭代操作的原因"
   ]
  },
  {
   "cell_type": "code",
   "execution_count": 37,
   "id": "53452d28",
   "metadata": {},
   "outputs": [],
   "source": [
    "import pandas as pd"
   ]
  },
  {
   "cell_type": "markdown",
   "id": "9fb9922c",
   "metadata": {},
   "source": [
    "### 1. DataFrame 當中的 For Loop"
   ]
  },
  {
   "cell_type": "code",
   "execution_count": 3,
   "id": "019193f2",
   "metadata": {},
   "outputs": [
    {
     "name": "stdout",
     "output_type": "stream",
     "text": [
      "name\n",
      "age\n"
     ]
    }
   ],
   "source": [
    "df = pd.DataFrame({\n",
    "  'name': ['Alice', 'Bob'],\n",
    "  'age': [20, 32]\n",
    "})\n",
    "\n",
    "for c in df:\n",
    "  print(c)"
   ]
  },
  {
   "cell_type": "markdown",
   "id": "b40915bb",
   "metadata": {},
   "source": [
    "### 2.橫向的資料迭代_以「筆」為單位的資料迭代"
   ]
  },
  {
   "cell_type": "markdown",
   "id": "75e9dc78",
   "metadata": {},
   "source": [
    "#### 方法一: 用for loop(暴力法)"
   ]
  },
  {
   "cell_type": "code",
   "execution_count": 23,
   "id": "a282359d",
   "metadata": {},
   "outputs": [
    {
     "name": "stdout",
     "output_type": "stream",
     "text": [
      "name    Alice\n",
      "age        20\n",
      "Name: 0, dtype: object\n",
      "name    Bob\n",
      "age      32\n",
      "Name: 1, dtype: object\n"
     ]
    }
   ],
   "source": [
    "df = pd.DataFrame({\n",
    "  'name': ['Alice', 'Bob'],\n",
    "  'age': [20, 32]\n",
    "})\n",
    "\n",
    "for i in range(len(df)):  #len函數用於返回字串、列表、字典、元組等長度\n",
    "    print(df.iloc[i])"
   ]
  },
  {
   "cell_type": "markdown",
   "id": "b01e0e17",
   "metadata": {},
   "source": [
    "#### 方法二: 用iteritems、iterrows、itertuples"
   ]
  },
  {
   "cell_type": "code",
   "execution_count": 35,
   "id": "f842ad86",
   "metadata": {},
   "outputs": [
    {
     "name": "stdout",
     "output_type": "stream",
     "text": [
      "('name', 0    Alice\n",
      "1      Bob\n",
      "Name: name, dtype: object)\n",
      "('age', 0    20\n",
      "1    32\n",
      "Name: age, dtype: int64)\n"
     ]
    }
   ],
   "source": [
    "for d in df.iteritems():\n",
    "  print(d)"
   ]
  },
  {
   "cell_type": "code",
   "execution_count": 36,
   "id": "c94b6f19",
   "metadata": {},
   "outputs": [
    {
     "name": "stdout",
     "output_type": "stream",
     "text": [
      "(0, name    Alice\n",
      "age        20\n",
      "Name: 0, dtype: object)\n",
      "(1, name    Bob\n",
      "age      32\n",
      "Name: 1, dtype: object)\n"
     ]
    }
   ],
   "source": [
    "for d in df.iterrows():\n",
    "  print(d)"
   ]
  },
  {
   "cell_type": "code",
   "execution_count": 37,
   "id": "6cff6ba7",
   "metadata": {},
   "outputs": [
    {
     "name": "stdout",
     "output_type": "stream",
     "text": [
      "Pandas(Index=0, name='Alice', age=20)\n",
      "Pandas(Index=1, name='Bob', age=32)\n"
     ]
    }
   ],
   "source": [
    "for d in df.itertuples():\n",
    "  print(d)"
   ]
  },
  {
   "cell_type": "markdown",
   "id": "97896f5c",
   "metadata": {},
   "source": [
    "#### 方法三: 用apply_逐行或逐列的循環處理方法"
   ]
  },
  {
   "cell_type": "code",
   "execution_count": 64,
   "id": "3cb570b0",
   "metadata": {},
   "outputs": [],
   "source": [
    "import numpy as np"
   ]
  },
  {
   "cell_type": "code",
   "execution_count": 86,
   "id": "a5699d5d",
   "metadata": {},
   "outputs": [],
   "source": [
    "df = pd.DataFrame({\n",
    "  'food': ['Toro', 'salmon', 'Shrimp'],\n",
    "  'price': [1000, 520, 600]\n",
    "})"
   ]
  },
  {
   "cell_type": "code",
   "execution_count": 77,
   "id": "849a11dc",
   "metadata": {},
   "outputs": [
    {
     "data": {
      "text/plain": [
       "food     salmon\n",
       "price      1000\n",
       "dtype: object"
      ]
     },
     "execution_count": 77,
     "metadata": {},
     "output_type": "execute_result"
    }
   ],
   "source": [
    "result1 = df.apply(np.max)\n",
    "result1"
   ]
  },
  {
   "cell_type": "code",
   "execution_count": 79,
   "id": "d64e3054",
   "metadata": {},
   "outputs": [
    {
     "data": {
      "text/plain": [
       "food     Shrimp\n",
       "price       520\n",
       "dtype: object"
      ]
     },
     "execution_count": 79,
     "metadata": {},
     "output_type": "execute_result"
    }
   ],
   "source": [
    "result2= df.apply(np.min)\n",
    "result2"
   ]
  },
  {
   "cell_type": "markdown",
   "id": "a1238f8f",
   "metadata": {},
   "source": [
    "####方法三: apply 搭配 lambda "
   ]
  },
  {
   "cell_type": "code",
   "execution_count": 88,
   "id": "b3df0dba",
   "metadata": {},
   "outputs": [
    {
     "data": {
      "text/plain": [
       "0    1\n",
       "1    0\n",
       "2    3\n",
       "Name: A, dtype: int64"
      ]
     },
     "execution_count": 88,
     "metadata": {},
     "output_type": "execute_result"
    }
   ],
   "source": [
    "#ref: https://sparkbyexamples.com/pandas/pandas-apply-with-lambda-examples/\n",
    "data = [(3,5,7), (2,4,6),(5,8,9)] \n",
    "df1 = pd.DataFrame(data, columns = ['A','B','C'])\n",
    "df1[\"A\"].apply(lambda x: x-2) #指定計算哪個欄位"
   ]
  },
  {
   "cell_type": "markdown",
   "id": "545a816e",
   "metadata": {},
   "source": [
    "####跟apply類似的涵式-map"
   ]
  },
  {
   "cell_type": "code",
   "execution_count": 91,
   "id": "861cfa17",
   "metadata": {},
   "outputs": [],
   "source": [
    "df = pd.DataFrame({\n",
    "    'score':[10,20,30],\n",
    "    'age':[60,70,80]\n",
    "})"
   ]
  },
  {
   "cell_type": "code",
   "execution_count": 92,
   "id": "30d8fd24",
   "metadata": {},
   "outputs": [
    {
     "data": {
      "text/plain": [
       "0   -60\n",
       "1   -70\n",
       "2   -80\n",
       "Name: age, dtype: int64"
      ]
     },
     "execution_count": 92,
     "metadata": {},
     "output_type": "execute_result"
    }
   ],
   "source": [
    "df['age'].map(lambda x: -x) #對 series 所有元素作一樣的操作"
   ]
  },
  {
   "cell_type": "code",
   "execution_count": 95,
   "id": "fca9204e",
   "metadata": {},
   "outputs": [
    {
     "data": {
      "text/html": [
       "<div>\n",
       "<style scoped>\n",
       "    .dataframe tbody tr th:only-of-type {\n",
       "        vertical-align: middle;\n",
       "    }\n",
       "\n",
       "    .dataframe tbody tr th {\n",
       "        vertical-align: top;\n",
       "    }\n",
       "\n",
       "    .dataframe thead th {\n",
       "        text-align: right;\n",
       "    }\n",
       "</style>\n",
       "<table border=\"1\" class=\"dataframe\">\n",
       "  <thead>\n",
       "    <tr style=\"text-align: right;\">\n",
       "      <th></th>\n",
       "      <th>score</th>\n",
       "      <th>age</th>\n",
       "    </tr>\n",
       "  </thead>\n",
       "  <tbody>\n",
       "    <tr>\n",
       "      <th>0</th>\n",
       "      <td>-10</td>\n",
       "      <td>-60</td>\n",
       "    </tr>\n",
       "    <tr>\n",
       "      <th>1</th>\n",
       "      <td>-20</td>\n",
       "      <td>-70</td>\n",
       "    </tr>\n",
       "    <tr>\n",
       "      <th>2</th>\n",
       "      <td>-30</td>\n",
       "      <td>-80</td>\n",
       "    </tr>\n",
       "  </tbody>\n",
       "</table>\n",
       "</div>"
      ],
      "text/plain": [
       "   score  age\n",
       "0    -10  -60\n",
       "1    -20  -70\n",
       "2    -30  -80"
      ]
     },
     "execution_count": 95,
     "metadata": {},
     "output_type": "execute_result"
    }
   ],
   "source": [
    "df.applymap(lambda x: -x) #對 dataframe 所有元素作一樣的操作"
   ]
  },
  {
   "cell_type": "code",
   "execution_count": 99,
   "id": "857e4a61",
   "metadata": {},
   "outputs": [
    {
     "data": {
      "text/html": [
       "<div>\n",
       "<style scoped>\n",
       "    .dataframe tbody tr th:only-of-type {\n",
       "        vertical-align: middle;\n",
       "    }\n",
       "\n",
       "    .dataframe tbody tr th {\n",
       "        vertical-align: top;\n",
       "    }\n",
       "\n",
       "    .dataframe thead th {\n",
       "        text-align: right;\n",
       "    }\n",
       "</style>\n",
       "<table border=\"1\" class=\"dataframe\">\n",
       "  <thead>\n",
       "    <tr style=\"text-align: right;\">\n",
       "      <th></th>\n",
       "      <th>score</th>\n",
       "      <th>age</th>\n",
       "    </tr>\n",
       "  </thead>\n",
       "  <tbody>\n",
       "    <tr>\n",
       "      <th>0</th>\n",
       "      <td>-10</td>\n",
       "      <td>-60</td>\n",
       "    </tr>\n",
       "    <tr>\n",
       "      <th>1</th>\n",
       "      <td>-20</td>\n",
       "      <td>-70</td>\n",
       "    </tr>\n",
       "    <tr>\n",
       "      <th>2</th>\n",
       "      <td>-30</td>\n",
       "      <td>-80</td>\n",
       "    </tr>\n",
       "  </tbody>\n",
       "</table>\n",
       "</div>"
      ],
      "text/plain": [
       "   score  age\n",
       "0    -10  -60\n",
       "1    -20  -70\n",
       "2    -30  -80"
      ]
     },
     "execution_count": 99,
     "metadata": {},
     "output_type": "execute_result"
    }
   ],
   "source": [
    "df.apply(lambda x:-x) #對 series 或 dataframe 逐行或逐列做一樣的操作"
   ]
  },
  {
   "cell_type": "code",
   "execution_count": 100,
   "id": "82c25ed1",
   "metadata": {},
   "outputs": [
    {
     "data": {
      "text/plain": [
       "0   -60\n",
       "1   -70\n",
       "2   -80\n",
       "Name: age, dtype: int64"
      ]
     },
     "execution_count": 100,
     "metadata": {},
     "output_type": "execute_result"
    }
   ],
   "source": [
    "df['age'].apply(lambda x:-x)"
   ]
  },
  {
   "cell_type": "markdown",
   "id": "e4854094",
   "metadata": {},
   "source": [
    "# Homework\n",
    "1. 根據給定的 DataFrame 中取出索引為4, 5 的 animal 和 age 欄位。\n",
    "2. 請將 dataFrame 所有字串都變成是大寫開頭。"
   ]
  },
  {
   "cell_type": "markdown",
   "id": "04f97170",
   "metadata": {},
   "source": [
    "#### 1. 根據給定的 DataFrame 中取出索引為 4, 5 的 animal 和 age 欄位。"
   ]
  },
  {
   "cell_type": "code",
   "execution_count": 2,
   "id": "efbc03d7",
   "metadata": {},
   "outputs": [],
   "source": [
    "import numpy as np\n",
    "import pandas as pd"
   ]
  },
  {
   "cell_type": "code",
   "execution_count": 32,
   "id": "d51923cf",
   "metadata": {},
   "outputs": [
    {
     "data": {
      "text/html": [
       "<div>\n",
       "<style scoped>\n",
       "    .dataframe tbody tr th:only-of-type {\n",
       "        vertical-align: middle;\n",
       "    }\n",
       "\n",
       "    .dataframe tbody tr th {\n",
       "        vertical-align: top;\n",
       "    }\n",
       "\n",
       "    .dataframe thead th {\n",
       "        text-align: right;\n",
       "    }\n",
       "</style>\n",
       "<table border=\"1\" class=\"dataframe\">\n",
       "  <thead>\n",
       "    <tr style=\"text-align: right;\">\n",
       "      <th></th>\n",
       "      <th>animal</th>\n",
       "      <th>age</th>\n",
       "      <th>visits</th>\n",
       "      <th>gender</th>\n",
       "    </tr>\n",
       "  </thead>\n",
       "  <tbody>\n",
       "    <tr>\n",
       "      <th>a</th>\n",
       "      <td>cat</td>\n",
       "      <td>1</td>\n",
       "      <td>5</td>\n",
       "      <td>male</td>\n",
       "    </tr>\n",
       "    <tr>\n",
       "      <th>b</th>\n",
       "      <td>dog</td>\n",
       "      <td>2</td>\n",
       "      <td>10</td>\n",
       "      <td>female</td>\n",
       "    </tr>\n",
       "    <tr>\n",
       "      <th>c</th>\n",
       "      <td>fish</td>\n",
       "      <td>3</td>\n",
       "      <td>15</td>\n",
       "      <td>female</td>\n",
       "    </tr>\n",
       "    <tr>\n",
       "      <th>d</th>\n",
       "      <td>turtle</td>\n",
       "      <td>4</td>\n",
       "      <td>20</td>\n",
       "      <td>NaN</td>\n",
       "    </tr>\n",
       "    <tr>\n",
       "      <th>e</th>\n",
       "      <td>rabbit</td>\n",
       "      <td>5</td>\n",
       "      <td>22</td>\n",
       "      <td>NaN</td>\n",
       "    </tr>\n",
       "  </tbody>\n",
       "</table>\n",
       "</div>"
      ],
      "text/plain": [
       "   animal  age  visits  gender\n",
       "a     cat    1       5    male\n",
       "b     dog    2      10  female\n",
       "c    fish    3      15  female\n",
       "d  turtle    4      20     NaN\n",
       "e  rabbit    5      22     NaN"
      ]
     },
     "execution_count": 32,
     "metadata": {},
     "output_type": "execute_result"
    }
   ],
   "source": [
    "data = {'animal':['cat', 'dog', 'fish', 'turtle', 'rabbit'],\n",
    "        'age':[1,2,3,4,5],\n",
    "        'visits':[5,10,15,20,22],\n",
    "        'gender':['male','female','female', np.nan, np.nan]}\n",
    "index = ['a','b','c','d','e']\n",
    "\n",
    "data = pd.DataFrame(data, index = index)\n",
    "data"
   ]
  },
  {
   "cell_type": "code",
   "execution_count": 33,
   "id": "cf6121a1",
   "metadata": {},
   "outputs": [
    {
     "data": {
      "text/html": [
       "<div>\n",
       "<style scoped>\n",
       "    .dataframe tbody tr th:only-of-type {\n",
       "        vertical-align: middle;\n",
       "    }\n",
       "\n",
       "    .dataframe tbody tr th {\n",
       "        vertical-align: top;\n",
       "    }\n",
       "\n",
       "    .dataframe thead th {\n",
       "        text-align: right;\n",
       "    }\n",
       "</style>\n",
       "<table border=\"1\" class=\"dataframe\">\n",
       "  <thead>\n",
       "    <tr style=\"text-align: right;\">\n",
       "      <th></th>\n",
       "      <th>animal</th>\n",
       "      <th>age</th>\n",
       "    </tr>\n",
       "  </thead>\n",
       "  <tbody>\n",
       "    <tr>\n",
       "      <th>d</th>\n",
       "      <td>turtle</td>\n",
       "      <td>4</td>\n",
       "    </tr>\n",
       "    <tr>\n",
       "      <th>e</th>\n",
       "      <td>rabbit</td>\n",
       "      <td>5</td>\n",
       "    </tr>\n",
       "  </tbody>\n",
       "</table>\n",
       "</div>"
      ],
      "text/plain": [
       "   animal  age\n",
       "d  turtle    4\n",
       "e  rabbit    5"
      ]
     },
     "execution_count": 33,
     "metadata": {},
     "output_type": "execute_result"
    }
   ],
   "source": [
    "data.loc[data.index[[3,4]],['animal','age']] #取行3,4，列animal,age資料"
   ]
  },
  {
   "cell_type": "code",
   "execution_count": 31,
   "id": "6f8540fe",
   "metadata": {},
   "outputs": [
    {
     "data": {
      "text/html": [
       "<div>\n",
       "<style scoped>\n",
       "    .dataframe tbody tr th:only-of-type {\n",
       "        vertical-align: middle;\n",
       "    }\n",
       "\n",
       "    .dataframe tbody tr th {\n",
       "        vertical-align: top;\n",
       "    }\n",
       "\n",
       "    .dataframe thead th {\n",
       "        text-align: right;\n",
       "    }\n",
       "</style>\n",
       "<table border=\"1\" class=\"dataframe\">\n",
       "  <thead>\n",
       "    <tr style=\"text-align: right;\">\n",
       "      <th></th>\n",
       "      <th>animal</th>\n",
       "      <th>age</th>\n",
       "    </tr>\n",
       "  </thead>\n",
       "  <tbody>\n",
       "    <tr>\n",
       "      <th>4</th>\n",
       "      <td>turtle</td>\n",
       "      <td>4</td>\n",
       "    </tr>\n",
       "    <tr>\n",
       "      <th>5</th>\n",
       "      <td>rabbit</td>\n",
       "      <td>5</td>\n",
       "    </tr>\n",
       "  </tbody>\n",
       "</table>\n",
       "</div>"
      ],
      "text/plain": [
       "   animal  age\n",
       "4  turtle    4\n",
       "5  rabbit    5"
      ]
     },
     "execution_count": 31,
     "metadata": {},
     "output_type": "execute_result"
    }
   ],
   "source": [
    "#ref:http://www.tshopping.com.tw/thread-263687-1-1.html #iloc, loc取行列用法\n",
    "data.loc[[4,5],['animal','age']]"
   ]
  },
  {
   "cell_type": "code",
   "execution_count": 15,
   "id": "e0de41b9",
   "metadata": {},
   "outputs": [
    {
     "data": {
      "text/html": [
       "<div>\n",
       "<style scoped>\n",
       "    .dataframe tbody tr th:only-of-type {\n",
       "        vertical-align: middle;\n",
       "    }\n",
       "\n",
       "    .dataframe tbody tr th {\n",
       "        vertical-align: top;\n",
       "    }\n",
       "\n",
       "    .dataframe thead th {\n",
       "        text-align: right;\n",
       "    }\n",
       "</style>\n",
       "<table border=\"1\" class=\"dataframe\">\n",
       "  <thead>\n",
       "    <tr style=\"text-align: right;\">\n",
       "      <th></th>\n",
       "      <th>animal</th>\n",
       "      <th>age</th>\n",
       "      <th>visits</th>\n",
       "      <th>gender</th>\n",
       "    </tr>\n",
       "  </thead>\n",
       "  <tbody>\n",
       "    <tr>\n",
       "      <th>3</th>\n",
       "      <td>fish</td>\n",
       "      <td>3</td>\n",
       "      <td>15</td>\n",
       "      <td>female</td>\n",
       "    </tr>\n",
       "    <tr>\n",
       "      <th>4</th>\n",
       "      <td>turtle</td>\n",
       "      <td>4</td>\n",
       "      <td>20</td>\n",
       "      <td>NaN</td>\n",
       "    </tr>\n",
       "  </tbody>\n",
       "</table>\n",
       "</div>"
      ],
      "text/plain": [
       "   animal  age  visits  gender\n",
       "3    fish    3      15  female\n",
       "4  turtle    4      20     NaN"
      ]
     },
     "execution_count": 15,
     "metadata": {},
     "output_type": "execute_result"
    }
   ],
   "source": [
    "data.loc[3:4]"
   ]
  },
  {
   "cell_type": "markdown",
   "id": "b05fbebf",
   "metadata": {},
   "source": [
    "#### 2. 請將 dataFrame 所有字串都變成是大寫開頭"
   ]
  },
  {
   "cell_type": "code",
   "execution_count": 34,
   "id": "146c8273",
   "metadata": {},
   "outputs": [
    {
     "data": {
      "text/html": [
       "<div>\n",
       "<style scoped>\n",
       "    .dataframe tbody tr th:only-of-type {\n",
       "        vertical-align: middle;\n",
       "    }\n",
       "\n",
       "    .dataframe tbody tr th {\n",
       "        vertical-align: top;\n",
       "    }\n",
       "\n",
       "    .dataframe thead th {\n",
       "        text-align: right;\n",
       "    }\n",
       "</style>\n",
       "<table border=\"1\" class=\"dataframe\">\n",
       "  <thead>\n",
       "    <tr style=\"text-align: right;\">\n",
       "      <th></th>\n",
       "      <th>0</th>\n",
       "      <th>1</th>\n",
       "      <th>2</th>\n",
       "    </tr>\n",
       "  </thead>\n",
       "  <tbody>\n",
       "    <tr>\n",
       "      <th>0</th>\n",
       "      <td>tom</td>\n",
       "      <td>mark</td>\n",
       "      <td>mary</td>\n",
       "    </tr>\n",
       "    <tr>\n",
       "      <th>1</th>\n",
       "      <td>bob</td>\n",
       "      <td>alice</td>\n",
       "      <td>john</td>\n",
       "    </tr>\n",
       "  </tbody>\n",
       "</table>\n",
       "</div>"
      ],
      "text/plain": [
       "     0      1     2\n",
       "0  tom   mark  mary\n",
       "1  bob  alice  john"
      ]
     },
     "execution_count": 34,
     "metadata": {},
     "output_type": "execute_result"
    }
   ],
   "source": [
    "data = pd.DataFrame([\n",
    "    ['tom', 'mark', 'mary'],\n",
    "    ['bob', 'alice', 'john']\n",
    "])\n",
    "data"
   ]
  },
  {
   "cell_type": "code",
   "execution_count": 39,
   "id": "ed9f75b8",
   "metadata": {},
   "outputs": [
    {
     "data": {
      "text/html": [
       "<div>\n",
       "<style scoped>\n",
       "    .dataframe tbody tr th:only-of-type {\n",
       "        vertical-align: middle;\n",
       "    }\n",
       "\n",
       "    .dataframe tbody tr th {\n",
       "        vertical-align: top;\n",
       "    }\n",
       "\n",
       "    .dataframe thead th {\n",
       "        text-align: right;\n",
       "    }\n",
       "</style>\n",
       "<table border=\"1\" class=\"dataframe\">\n",
       "  <thead>\n",
       "    <tr style=\"text-align: right;\">\n",
       "      <th></th>\n",
       "      <th>0</th>\n",
       "      <th>1</th>\n",
       "      <th>2</th>\n",
       "    </tr>\n",
       "  </thead>\n",
       "  <tbody>\n",
       "    <tr>\n",
       "      <th>0</th>\n",
       "      <td>Tom</td>\n",
       "      <td>Mark</td>\n",
       "      <td>Mary</td>\n",
       "    </tr>\n",
       "    <tr>\n",
       "      <th>1</th>\n",
       "      <td>Bob</td>\n",
       "      <td>Alice</td>\n",
       "      <td>John</td>\n",
       "    </tr>\n",
       "  </tbody>\n",
       "</table>\n",
       "</div>"
      ],
      "text/plain": [
       "     0      1     2\n",
       "0  Tom   Mark  Mary\n",
       "1  Bob  Alice  John"
      ]
     },
     "execution_count": 39,
     "metadata": {},
     "output_type": "execute_result"
    }
   ],
   "source": [
    "data.applymap(lambda x:x.title())"
   ]
  }
 ],
 "metadata": {
  "kernelspec": {
   "display_name": "Python 3 (ipykernel)",
   "language": "python",
   "name": "python3"
  },
  "language_info": {
   "codemirror_mode": {
    "name": "ipython",
    "version": 3
   },
   "file_extension": ".py",
   "mimetype": "text/x-python",
   "name": "python",
   "nbconvert_exporter": "python",
   "pygments_lexer": "ipython3",
   "version": "3.9.7"
  }
 },
 "nbformat": 4,
 "nbformat_minor": 5
}
